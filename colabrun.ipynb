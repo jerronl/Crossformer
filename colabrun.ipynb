{
 "cells": [
  {
   "cell_type": "markdown",
   "metadata": {
    "id": "5KB0_RDrJTzT"
   },
   "source": [
    "# setup"
   ]
  },
  {
   "cell_type": "code",
   "execution_count": 2,
   "metadata": {
    "id": "JaXYxzifbhst"
   },
   "outputs": [
    {
     "name": "stdout",
     "output_type": "stream",
     "text": [
      "E:\\mydoc\\git\\trade\\analyics\n"
     ]
    }
   ],
   "source": [
    "run_test=True\n",
    "# run_test=False\n",
    "epochs=(1,1,1,0)\n",
    "epochs=(15,500,3,0)\n",
    "cutdate='2024-12-20'\n",
    "valData=''\n",
    "valData='2512'\n",
    "testData=''\n",
    "testData='new/'\n",
    "weight=(0.8,1.0)\n",
    "itr=5\n",
    "metrics_cnt=6\n",
    "import torch,sys\n",
    "\n",
    "if 'google.colab' in str(get_ipython()):\n",
    "  from google.colab import drive\n",
    "  drive.mount('/content/drive')\n",
    "  mydrive='/content/drive/MyDrive/volrt/'\n",
    "  source_path=mydrive+\"git/Crossformer\"\n",
    "  tables = [ 'volvTSLA.csv', 'volvAAPL.csv', 'volvGOOG.csv','volvNVDA.csv', ]\n",
    "  batch_size=int(torch.cuda.get_device_properties(0).total_memory/1e9+.5)*32\n",
    "  import os,sys\n",
    "  if not os.path.exists(source_path):\n",
    "    %cd $mydrive/git\n",
    "    !git clone https://github.com/jerronl/Crossformer.git\n",
    "    %cd $source_path\n",
    "  else:\n",
    "    %cd $source_path\n",
    "    # !git reset --hard HEAD\n",
    "    # !git pull origin master\n",
    "  %pip install einops #scikit-learn\n",
    "  sys.path.append( source_path)\n",
    "else:\n",
    "  tables = [ 'volvAAPL.csv']\n",
    "  testData=''\n",
    "  mydrive= 'E:/mydoc/git/trade/analyics/'\n",
    "  batch_size=32\n",
    "  sys.path.append(\"G:/git/Crossformer1/\")\n",
    "  itr=1\n",
    "  %load_ext autoreload\n",
    "  %autoreload 2\n",
    "%cd $mydrive\n"
   ]
  },
  {
   "cell_type": "code",
   "execution_count": 3,
   "metadata": {
    "id": "dQsiHS9i8ua4"
   },
   "outputs": [],
   "source": [
    "from cross_exp.exp_crossformer import Exp_crossformer\n",
    "\n",
    "\n",
    "from utils.tools import init_args,update_args\n",
    "import seaborn as sns, numpy as np,math\n",
    "import matplotlib.pyplot as plt\n",
    "from data.data_def import set_cat\n",
    "set_cat(20)\n",
    "args=init_args()\n",
    "data_parser={}\n",
    "\n",
    "\n",
    "def regplot(dep_var, metrics, cols, itr=None, figsize=4):\n",
    "    cnt = len(dep_var) - dep_var.count(\"_\")\n",
    "    figs = min(cnt, cols)\n",
    "    _, axes = plt.subplots(math.ceil(cnt / figs), figs, figsize=(figsize*figs,figsize*max(1,(cnt-1)//figs+1)))\n",
    "    j = 0\n",
    "\n",
    "    for i, name in enumerate(dep_var):\n",
    "        if name != \"_\":\n",
    "            # if itr:\n",
    "            name=f'{itr}_{name}'\n",
    "            axs = axes.flat[j] if figs > 1 else axes\n",
    "            j = j + 1\n",
    "            left, right = 999, -999\n",
    "            ax2=axs.twinx()\n",
    "            max_hist=0\n",
    "            for ii in range(len(results)):\n",
    "                preds, trues, _ = results[ii]\n",
    "                h,_,_=ax2.hist(trues[:, i], density=True,alpha=0.2,color=f\"C{ii}\")\n",
    "                max_hist=max(max_hist,np.max(h))\n",
    "                sns.regplot(\n",
    "                    ax=axs,\n",
    "                    x=trues[:, i],\n",
    "                    y=preds[:, i],\n",
    "                    scatter_kws={\"color\": f\"C{ii}\",'s': 10, \"alpha\": 0.2},\n",
    "                    line_kws={\"color\": f\"C{ii}\", \"alpha\": 0.4},\n",
    "                    label=labels[1][ii],\n",
    "                )\n",
    "                mask = ~np.isnan(trues[:, i])\n",
    "                if not dep_var[i][:3] in [\"dtm\", \"pmc\"]:\n",
    "                    left = min(left, max(np.min(trues[:, i][mask]), -5))\n",
    "                    right = max(right, min(np.max(trues[:, i][mask]), 5))\n",
    "                else:\n",
    "                    left = min(left, np.min(trues[:, i][mask]))\n",
    "                    right = max(right, np.max(trues[:, i][mask]))\n",
    "            ax2.tick_params(axis='y', labelleft=False, labelright=False, left=False, right=False)\n",
    "            ax2.set_ylim(0, max_hist*3)\n",
    "            ax2.set_ylabel('')\n",
    "            axs.set_title(name)\n",
    "            xmin, xmax = axs.get_ylim()\n",
    "            left, right=min(-0.01,min(left,xmin)),max(0.01,max(xmax, right))\n",
    "            axs.set_xlim(left=left, right=right)\n",
    "            axs.set_ylim(left, right) \n",
    "            axs.legend()\n",
    "    metric = []\n",
    "    for ii in range(len(results)):\n",
    "        _, _, m = results[ii]\n",
    "        metric.append(m)\n",
    "\n",
    "    metrics = np.append(\n",
    "        metrics, np.array(metric).reshape([1, len(metric), len(m)]), axis=0\n",
    "    )\n",
    "\n",
    "    plt.show()\n",
    "    return metrics\n",
    "\n",
    "\n",
    "\n",
    "def plot_metric(metrics, labels, *args, **kwargs):\n",
    "    a, b, c = metrics.shape\n",
    "    _, axs = plt.subplots(\n",
    "        nrows=math.ceil(c / 2),\n",
    "        ncols=2, figsize=(16, 16), \n",
    "    )\n",
    "    for i in range(c):\n",
    "        ax = (\n",
    "            axs[i // 2, i % 2] if c > 1 else axs\n",
    "        )  # Handle the case when c=1 to avoid indexing errors\n",
    "        for j in range(a):\n",
    "            ax.plot(\n",
    "                metrics[j, :, i], label=labels[0][j], *args, **kwargs\n",
    "            )  # Plot each series in the i-th plot\n",
    "        ax.set_title(labels[2][i])\n",
    "        ax.legend()  # Show legend in each subplot\n",
    "\n",
    "        # Set custom x-axis labels\n",
    "        ax.set_xticks(range(b))  # Set x-tick positions for all 'b' points\n",
    "        ax.set_xticklabels(labels[1])  # Set x-tick labels\n",
    "\n",
    "    plt.tight_layout()\n",
    "    plt.show()\n",
    "\n",
    "def plot_hlc():\n",
    "    global results, labels\n",
    "    dep_var = data_names(data_columns(test_set), 20)[0]\n",
    "    labels = [\n",
    "        [f'm{i}' for i in range(itr)],  # Model identifiers\n",
    "        tables,                         # Table names\n",
    "        [\"mae\", \"mse\", \"rmse\", \"mape\", \"wmse\", \"accr\"]  # Metric labels\n",
    "    ]\n",
    "    metrics = np.empty((0, len(tables), metrics_cnt))\n",
    "    n_categories = data_columns(test_set)[\"ycat\"]\n",
    "    x = np.arange(1, n_categories + 1)\n",
    "    for i in range(itr):\n",
    "        setting = update_args(args, data_parser, i)\n",
    "        DatasetMTS.clear()\n",
    "        exp = Exp_crossformer(args)\n",
    "        print(f\">>>>>>> Testing: {setting} <<<<<<<<<<<<<<<<<<<<<<<<<<<\")\n",
    "        results = []\n",
    "\n",
    "        for table in tables:\n",
    "            results.append(exp.test(setting, 'prcs', True, data_path=[table], inverse=1))\n",
    "        \n",
    "        metrics = regplot(dep_var, metrics, 4, i)\n",
    "\n",
    "        cols=4\n",
    "        rows = (len(results) - 1) // cols + 1\n",
    "        \n",
    "        _, axes = plt.subplots(rows*2, cols, figsize=(16, cols * rows*2))\n",
    "        axes = axes.flatten()\n",
    "\n",
    "        for j, result in enumerate(results):\n",
    "            preds, trues, _ = result\n",
    "            preds = preds[:, -n_categories:]\n",
    "            trues = np.round(trues[:, 0]).astype(int)\n",
    "            df = pd.DataFrame(preds, columns=[str(i) for i in range(1, n_categories + 1)])\n",
    "            df['True_Label'] = trues\n",
    "\n",
    "            summed_probs = df.groupby('True_Label').mean().T            \n",
    "            xi=[float(x) + 0.5 for x in summed_probs.index]\n",
    "            half=len(summed_probs.columns)/2\n",
    "            ls=['--','-',':']\n",
    "            for k in (0,1):\n",
    "              ci=0\n",
    "              ax = axes[int(j//cols)*cols*2+j%cols+k*cols]\n",
    "              ax.hist(trues, bins=np.arange(0.5, n_categories + 0.5), density=True)\n",
    "              for m in range(k,len(summed_probs.columns),2):\n",
    "                  col=summed_probs.columns[m]\n",
    "                  ax.plot(xi, summed_probs[col],\n",
    "                          label=f'Col {col}',\n",
    "                          linestyle=ls[col % 3],\n",
    "                          color=f'C{ci % 10}',alpha=0.5)\n",
    "                  ci+=1\n",
    "\n",
    "                  ax.text(col-.5, summed_probs[col][col-1], f'{col}',\n",
    "                          fontsize=8, verticalalignment='center', horizontalalignment='left')\n",
    "                  ax.legend(loc='center left', bbox_to_anchor=(1.05, 0.5))\n",
    "\n",
    "              ax.set_title(f'{tables[j]}_{i}')\n",
    "              ax.set_ylim(0.0, 0.2)\n",
    "              ax.set_xlim(0.5, n_categories + 0.5)\n",
    "              ax.set_xticks(x)\n",
    "              ax.set_xticklabels([str(i) for i in x], rotation=-45)\n",
    "                            \n",
    "        plt.tight_layout()\n",
    "        plt.show()\n",
    "\n",
    "    print(metrics)\n",
    "    plot_metric(metrics, labels)\n"
   ]
  },
  {
   "cell_type": "markdown",
   "metadata": {
    "id": "qCfd-gU7JTzW"
   },
   "source": [
    "# train"
   ]
  },
  {
   "cell_type": "code",
   "execution_count": null,
   "metadata": {
    "id": "YeTQzMtGy8Ih"
   },
   "outputs": [
    {
     "name": "stdout",
     "output_type": "stream",
     "text": [
      "Args in experiment:\n",
      "Namespace(data='prcs', step=1, weight=1.0, root_path='E:/mydoc/git/trade/analyics/', delta=1.0, alpha2=0.2, alpham=0.5, lambda_huber=1.0, lambda_mse=1.0, lambda_reg=0.5, lambda_q90=0.5, data_path=['volvAAPL.csv'], data_split=[0.7, 0.15, 0.15], checkpoints='./checkpoints/', in_len=20, out_len=1, seg_len=5, win_size=2, factor=10, d_model=512, d_ff=512, n_heads=4, e_layers=5, dropout=0.2, baseline=False, num_workers=0, batch_size=12, train_epochs=500, patience=15, learning_rate=0.01, lradj='type2', itr=1, save_pred=False, use_gpu=True, resume=True, query=None, gpu=0, use_multi_gpu=False, devices='0,1,2,3')\n",
      "Use GPU: cuda:0\n",
      ">>>>>>>start training : Crossformer_itr0_il20_ol1_sl5_win2_fa10_dm512_nh4_el5_wt1.0>>>>>>>>>>>>>>>>>>>>>>>>>>\n",
      "volvAAPL.csv 0     #2022-02-01 15:59:59#\n",
      "61    #2022-02-25 15:59:59#\n",
      "74    #2022-03-01 15:59:59#\n",
      "87    #2022-03-02 15:59:59#\n",
      "Name: date, dtype: object\n",
      "train 64\n",
      "val 13\n",
      "test 13\n",
      "\u001b[91m failed to load Error(s) in loading state_dict for Exp_crossformer:\n",
      "\tMissing key(s) in state_dict: \"model.adapter_q90.0.weight\", \"model.adapter_q90.0.bias\", \"model.adapter_q90.2.weight\", \"model.adapter_q90.2.bias\". \n",
      "\tsize mismatch for model.adapter_mu.0.weight: copying a param with shape torch.Size([50, 35]) from checkpoint, the shape in current model is torch.Size([50, 175]).\n",
      "\tsize mismatch for model.adapter_cat.0.weight: copying a param with shape torch.Size([50, 35]) from checkpoint, the shape in current model is torch.Size([50, 175]). ./checkpoints/Crossformer_itr0_il20_ol1_sl5_win2_fa10_dm512_nh4_el5_wt1.0prcs/checkpoint.pth \u001b[0m\n",
      "Epoch: 1 cost time: 4.157\n",
      "Epoch: 1, Steps: 6 | Train Loss: 5.075 Vali Loss: (40.03, (29.48, 8.688, 0.3322, 113.6)) | Test Loss: (50.56, (40.46, 8.3, 0.08298, 127.1))\n",
      "\u001b[92m Validation loss decreased (inf --> 40.03).  Saving model ... \u001b[0m\n",
      "\u001b[95m Early stopping \u001b[0m\n",
      "test 13\n",
      "\u001b[94m mae:2.84, mse:15.2, rmse:3.899, mape:inf, mspe:23.03, accr:10.536742327142424 \u001b[0m\n",
      "(13, 25) (13, 5)\n",
      "Args in experiment:\n",
      "Namespace(data='vols', step=1, weight=0.8, root_path='E:/mydoc/git/trade/analyics/', delta=1.0, alpha2=5, alpham=0.1, lambda_huber=1.0, lambda_mse=1.0, lambda_reg=0.5, lambda_q90=0.5, data_path=['volvAAPL.csv'], data_split=[0.7, 0.15, 0.15], checkpoints='./checkpoints/', in_len=20, out_len=1, seg_len=5, win_size=2, factor=10, d_model=512, d_ff=512, n_heads=4, e_layers=5, dropout=0.2, baseline=False, num_workers=0, batch_size=12, train_epochs=500, patience=15, learning_rate=0.0033333333333333335, lradj='type2', itr=1, save_pred=False, use_gpu=True, resume=True, query=None, gpu=0, use_multi_gpu=False, devices='0,1,2,3')\n"
     ]
    },
    {
     "ename": "KeyboardInterrupt",
     "evalue": "",
     "output_type": "error",
     "traceback": [
      "\u001b[31m---------------------------------------------------------------------------\u001b[39m",
      "\u001b[31mKeyError\u001b[39m                                  Traceback (most recent call last)",
      "\u001b[36mFile \u001b[39m\u001b[32m_pydevd_bundle\\\\pydevd_cython.pyx:2054\u001b[39m, in \u001b[36m_pydevd_bundle.pydevd_cython.ThreadTracer.__call__\u001b[39m\u001b[34m()\u001b[39m\n",
      "\u001b[31mKeyError\u001b[39m: 'd:\\\\ProgramData\\\\miniconda3\\\\envs\\\\e1\\\\Lib\\\\site-packages\\\\debugpy\\\\_vendored\\\\pydevd\\\\_pydevd_bundle\\\\pydevd_net_command_factory_json.py'",
      "\nDuring handling of the above exception, another exception occurred:\n",
      "\u001b[31mKeyError\u001b[39m                                  Traceback (most recent call last)",
      "\u001b[36mFile \u001b[39m\u001b[32md:\\ProgramData\\miniconda3\\envs\\e1\\Lib\\site-packages\\debugpy\\_vendored\\pydevd\\pydevd_file_utils.py:937\u001b[39m, in \u001b[36mget_abs_path_real_path_and_base_from_frame\u001b[39m\u001b[34m(frame, NORM_PATHS_AND_BASE_CONTAINER)\u001b[39m\n\u001b[32m    936\u001b[39m \u001b[38;5;28;01mtry\u001b[39;00m:\n\u001b[32m--> \u001b[39m\u001b[32m937\u001b[39m     \u001b[38;5;28;01mreturn\u001b[39;00m \u001b[43mNORM_PATHS_AND_BASE_CONTAINER\u001b[49m\u001b[43m[\u001b[49m\u001b[43mframe\u001b[49m\u001b[43m.\u001b[49m\u001b[43mf_code\u001b[49m\u001b[43m.\u001b[49m\u001b[43mco_filename\u001b[49m\u001b[43m]\u001b[49m\n\u001b[32m    938\u001b[39m \u001b[38;5;28;01mexcept\u001b[39;00m:\n\u001b[32m    939\u001b[39m     \u001b[38;5;66;03m# This one is just internal (so, does not need any kind of client-server translation)\u001b[39;00m\n",
      "\u001b[31mKeyError\u001b[39m: 'd:\\\\ProgramData\\\\miniconda3\\\\envs\\\\e1\\\\Lib\\\\site-packages\\\\debugpy\\\\_vendored\\\\pydevd\\\\_pydevd_bundle\\\\pydevd_net_command_factory_json.py'",
      "\nDuring handling of the above exception, another exception occurred:\n",
      "\u001b[31mKeyError\u001b[39m                                  Traceback (most recent call last)",
      "\u001b[36mFile \u001b[39m\u001b[32md:\\ProgramData\\miniconda3\\envs\\e1\\Lib\\site-packages\\debugpy\\_vendored\\pydevd\\pydevd_file_utils.py:901\u001b[39m, in \u001b[36mget_abs_path_real_path_and_base_from_file\u001b[39m\u001b[34m(filename, NORM_PATHS_AND_BASE_CONTAINER)\u001b[39m\n\u001b[32m    900\u001b[39m \u001b[38;5;28;01mtry\u001b[39;00m:\n\u001b[32m--> \u001b[39m\u001b[32m901\u001b[39m     \u001b[38;5;28;01mreturn\u001b[39;00m \u001b[43mNORM_PATHS_AND_BASE_CONTAINER\u001b[49m\u001b[43m[\u001b[49m\u001b[43mfilename\u001b[49m\u001b[43m]\u001b[49m\n\u001b[32m    902\u001b[39m \u001b[38;5;28;01mexcept\u001b[39;00m:\n",
      "\u001b[31mKeyError\u001b[39m: 'd:\\\\ProgramData\\\\miniconda3\\\\envs\\\\e1\\\\Lib\\\\site-packages\\\\debugpy\\\\_vendored\\\\pydevd\\\\_pydevd_bundle\\\\pydevd_net_command_factory_json.py'",
      "\nDuring handling of the above exception, another exception occurred:\n",
      "\u001b[31mKeyError\u001b[39m                                  Traceback (most recent call last)",
      "\u001b[36mFile \u001b[39m\u001b[32md:\\ProgramData\\miniconda3\\envs\\e1\\Lib\\site-packages\\debugpy\\_vendored\\pydevd\\pydevd_file_utils.py:433\u001b[39m, in \u001b[36m_abs_and_canonical_path\u001b[39m\u001b[34m(filename, NORM_PATHS_CONTAINER)\u001b[39m\n\u001b[32m    432\u001b[39m \u001b[38;5;28;01mtry\u001b[39;00m:\n\u001b[32m--> \u001b[39m\u001b[32m433\u001b[39m     \u001b[38;5;28;01mreturn\u001b[39;00m \u001b[43mNORM_PATHS_CONTAINER\u001b[49m\u001b[43m[\u001b[49m\u001b[43mfilename\u001b[49m\u001b[43m]\u001b[49m\n\u001b[32m    434\u001b[39m \u001b[38;5;28;01mexcept\u001b[39;00m:\n",
      "\u001b[31mKeyError\u001b[39m: 'd:\\\\ProgramData\\\\miniconda3\\\\envs\\\\e1\\\\Lib\\\\site-packages\\\\debugpy\\\\_vendored\\\\pydevd\\\\_pydevd_bundle\\\\pydevd_net_command_factory_json.py'",
      "\nDuring handling of the above exception, another exception occurred:\n",
      "\u001b[31mKeyboardInterrupt\u001b[39m                         Traceback (most recent call last)",
      "\u001b[36mCell\u001b[39m\u001b[36m \u001b[39m\u001b[32mIn[6]\u001b[39m\u001b[32m, line 39\u001b[39m\n\u001b[32m     37\u001b[39m DatasetMTS.clear()\n\u001b[32m     38\u001b[39m \u001b[38;5;66;03m# drive.mount('/content/drive/',force_remount=True)\u001b[39;00m\n\u001b[32m---> \u001b[39m\u001b[32m39\u001b[39m \u001b[43mget_ipython\u001b[49m\u001b[43m(\u001b[49m\u001b[43m)\u001b[49m\u001b[43m.\u001b[49m\u001b[43msystem\u001b[49m\u001b[43m(\u001b[49m\u001b[33;43m'\u001b[39;49m\u001b[33;43mgoogle-drive-ocamlfuse -cc\u001b[39;49m\u001b[33;43m'\u001b[39;49m\u001b[43m)\u001b[49m\n\u001b[32m     41\u001b[39m exp = Exp_crossformer(args)  \u001b[38;5;66;03m# set experiments\u001b[39;00m\n\u001b[32m     42\u001b[39m \u001b[38;5;28mprint\u001b[39m(\u001b[33mf\u001b[39m\u001b[33m\"\u001b[39m\u001b[33m>>>>>>>start training : \u001b[39m\u001b[38;5;132;01m{\u001b[39;00msetting\u001b[38;5;132;01m}\u001b[39;00m\u001b[33m>>>>>>>>>>>>>>>>>>>>>>>>>>\u001b[39m\u001b[33m\"\u001b[39m)\n",
      "\u001b[36mFile \u001b[39m\u001b[32md:\\ProgramData\\miniconda3\\envs\\e1\\Lib\\site-packages\\ipykernel\\zmqshell.py:655\u001b[39m, in \u001b[36mZMQInteractiveShell.system_piped\u001b[39m\u001b[34m(self, cmd)\u001b[39m\n\u001b[32m    653\u001b[39m         \u001b[38;5;28;01mif\u001b[39;00m path \u001b[38;5;129;01mis\u001b[39;00m \u001b[38;5;129;01mnot\u001b[39;00m \u001b[38;5;28;01mNone\u001b[39;00m:\n\u001b[32m    654\u001b[39m             cmd = \u001b[33mf\u001b[39m\u001b[33m\"\u001b[39m\u001b[33mpushd \u001b[39m\u001b[38;5;132;01m{\u001b[39;00mpath\u001b[38;5;132;01m}\u001b[39;00m\u001b[33m &&\u001b[39m\u001b[38;5;132;01m{\u001b[39;00mcmd\u001b[38;5;132;01m}\u001b[39;00m\u001b[33m\"\u001b[39m\n\u001b[32m--> \u001b[39m\u001b[32m655\u001b[39m         \u001b[38;5;28mself\u001b[39m.user_ns[\u001b[33m\"\u001b[39m\u001b[33m_exit_code\u001b[39m\u001b[33m\"\u001b[39m] = \u001b[43msystem\u001b[49m\u001b[43m(\u001b[49m\u001b[43mcmd\u001b[49m\u001b[43m)\u001b[49m\n\u001b[32m    656\u001b[39m \u001b[38;5;28;01melse\u001b[39;00m:\n\u001b[32m    657\u001b[39m     \u001b[38;5;28mself\u001b[39m.user_ns[\u001b[33m\"\u001b[39m\u001b[33m_exit_code\u001b[39m\u001b[33m\"\u001b[39m] = system(\u001b[38;5;28mself\u001b[39m.var_expand(cmd, depth=\u001b[32m1\u001b[39m))\n",
      "\u001b[36mFile \u001b[39m\u001b[32md:\\ProgramData\\miniconda3\\envs\\e1\\Lib\\site-packages\\IPython\\utils\\_process_win32.py:138\u001b[39m, in \u001b[36msystem\u001b[39m\u001b[34m(cmd)\u001b[39m\n\u001b[32m    136\u001b[39m \u001b[38;5;28;01mif\u001b[39;00m path \u001b[38;5;129;01mis\u001b[39;00m \u001b[38;5;129;01mnot\u001b[39;00m \u001b[38;5;28;01mNone\u001b[39;00m:\n\u001b[32m    137\u001b[39m     cmd = \u001b[33m'\u001b[39m\u001b[33m\"\u001b[39m\u001b[33mpushd \u001b[39m\u001b[38;5;132;01m%s\u001b[39;00m\u001b[33m &&\u001b[39m\u001b[33m\"\u001b[39m\u001b[38;5;132;01m%s\u001b[39;00m\u001b[33m'\u001b[39m % (path, cmd)\n\u001b[32m--> \u001b[39m\u001b[32m138\u001b[39m res = \u001b[43mprocess_handler\u001b[49m\u001b[43m(\u001b[49m\u001b[43mcmd\u001b[49m\u001b[43m,\u001b[49m\u001b[43m \u001b[49m\u001b[43m_system_body\u001b[49m\u001b[43m)\u001b[49m\n\u001b[32m    139\u001b[39m \u001b[38;5;28;01massert\u001b[39;00m \u001b[38;5;28misinstance\u001b[39m(res, \u001b[38;5;28mint\u001b[39m | \u001b[38;5;28mtype\u001b[39m(\u001b[38;5;28;01mNone\u001b[39;00m))\n\u001b[32m    140\u001b[39m \u001b[38;5;28;01mreturn\u001b[39;00m res\n",
      "\u001b[36mFile \u001b[39m\u001b[32md:\\ProgramData\\miniconda3\\envs\\e1\\Lib\\site-packages\\IPython\\utils\\_process_common.py:85\u001b[39m, in \u001b[36mprocess_handler\u001b[39m\u001b[34m(cmd, callback, stderr)\u001b[39m\n\u001b[32m     83\u001b[39m \u001b[38;5;28;01mif\u001b[39;00m shell \u001b[38;5;129;01mand\u001b[39;00m os.name == \u001b[33m'\u001b[39m\u001b[33mposix\u001b[39m\u001b[33m'\u001b[39m \u001b[38;5;129;01mand\u001b[39;00m \u001b[33m'\u001b[39m\u001b[33mSHELL\u001b[39m\u001b[33m'\u001b[39m \u001b[38;5;129;01min\u001b[39;00m os.environ:\n\u001b[32m     84\u001b[39m     executable = os.environ[\u001b[33m'\u001b[39m\u001b[33mSHELL\u001b[39m\u001b[33m'\u001b[39m]\n\u001b[32m---> \u001b[39m\u001b[32m85\u001b[39m p = \u001b[43msubprocess\u001b[49m\u001b[43m.\u001b[49m\u001b[43mPopen\u001b[49m\u001b[43m(\u001b[49m\u001b[43mcmd\u001b[49m\u001b[43m,\u001b[49m\u001b[43m \u001b[49m\u001b[43mshell\u001b[49m\u001b[43m=\u001b[49m\u001b[43mshell\u001b[49m\u001b[43m,\u001b[49m\n\u001b[32m     86\u001b[39m \u001b[43m                     \u001b[49m\u001b[43mexecutable\u001b[49m\u001b[43m=\u001b[49m\u001b[43mexecutable\u001b[49m\u001b[43m,\u001b[49m\n\u001b[32m     87\u001b[39m \u001b[43m                     \u001b[49m\u001b[43mstdin\u001b[49m\u001b[43m=\u001b[49m\u001b[43msubprocess\u001b[49m\u001b[43m.\u001b[49m\u001b[43mPIPE\u001b[49m\u001b[43m,\u001b[49m\n\u001b[32m     88\u001b[39m \u001b[43m                     \u001b[49m\u001b[43mstdout\u001b[49m\u001b[43m=\u001b[49m\u001b[43msubprocess\u001b[49m\u001b[43m.\u001b[49m\u001b[43mPIPE\u001b[49m\u001b[43m,\u001b[49m\n\u001b[32m     89\u001b[39m \u001b[43m                     \u001b[49m\u001b[43mstderr\u001b[49m\u001b[43m=\u001b[49m\u001b[43mstderr\u001b[49m\u001b[43m,\u001b[49m\n\u001b[32m     90\u001b[39m \u001b[43m                     \u001b[49m\u001b[43mclose_fds\u001b[49m\u001b[43m=\u001b[49m\u001b[43mclose_fds\u001b[49m\u001b[43m)\u001b[49m\n\u001b[32m     92\u001b[39m \u001b[38;5;28;01mtry\u001b[39;00m:\n\u001b[32m     93\u001b[39m     out = callback(p)\n",
      "\u001b[36mFile \u001b[39m\u001b[32md:\\ProgramData\\miniconda3\\envs\\e1\\Lib\\subprocess.py:1026\u001b[39m, in \u001b[36mPopen.__init__\u001b[39m\u001b[34m(self, args, bufsize, executable, stdin, stdout, stderr, preexec_fn, close_fds, shell, cwd, env, universal_newlines, startupinfo, creationflags, restore_signals, start_new_session, pass_fds, user, group, extra_groups, encoding, errors, text, umask, pipesize, process_group)\u001b[39m\n\u001b[32m   1022\u001b[39m         \u001b[38;5;28;01mif\u001b[39;00m \u001b[38;5;28mself\u001b[39m.text_mode:\n\u001b[32m   1023\u001b[39m             \u001b[38;5;28mself\u001b[39m.stderr = io.TextIOWrapper(\u001b[38;5;28mself\u001b[39m.stderr,\n\u001b[32m   1024\u001b[39m                     encoding=encoding, errors=errors)\n\u001b[32m-> \u001b[39m\u001b[32m1026\u001b[39m     \u001b[38;5;28;43mself\u001b[39;49m\u001b[43m.\u001b[49m\u001b[43m_execute_child\u001b[49m\u001b[43m(\u001b[49m\u001b[43margs\u001b[49m\u001b[43m,\u001b[49m\u001b[43m \u001b[49m\u001b[43mexecutable\u001b[49m\u001b[43m,\u001b[49m\u001b[43m \u001b[49m\u001b[43mpreexec_fn\u001b[49m\u001b[43m,\u001b[49m\u001b[43m \u001b[49m\u001b[43mclose_fds\u001b[49m\u001b[43m,\u001b[49m\n\u001b[32m   1027\u001b[39m \u001b[43m                        \u001b[49m\u001b[43mpass_fds\u001b[49m\u001b[43m,\u001b[49m\u001b[43m \u001b[49m\u001b[43mcwd\u001b[49m\u001b[43m,\u001b[49m\u001b[43m \u001b[49m\u001b[43menv\u001b[49m\u001b[43m,\u001b[49m\n\u001b[32m   1028\u001b[39m \u001b[43m                        \u001b[49m\u001b[43mstartupinfo\u001b[49m\u001b[43m,\u001b[49m\u001b[43m \u001b[49m\u001b[43mcreationflags\u001b[49m\u001b[43m,\u001b[49m\u001b[43m \u001b[49m\u001b[43mshell\u001b[49m\u001b[43m,\u001b[49m\n\u001b[32m   1029\u001b[39m \u001b[43m                        \u001b[49m\u001b[43mp2cread\u001b[49m\u001b[43m,\u001b[49m\u001b[43m \u001b[49m\u001b[43mp2cwrite\u001b[49m\u001b[43m,\u001b[49m\n\u001b[32m   1030\u001b[39m \u001b[43m                        \u001b[49m\u001b[43mc2pread\u001b[49m\u001b[43m,\u001b[49m\u001b[43m \u001b[49m\u001b[43mc2pwrite\u001b[49m\u001b[43m,\u001b[49m\n\u001b[32m   1031\u001b[39m \u001b[43m                        \u001b[49m\u001b[43merrread\u001b[49m\u001b[43m,\u001b[49m\u001b[43m \u001b[49m\u001b[43merrwrite\u001b[49m\u001b[43m,\u001b[49m\n\u001b[32m   1032\u001b[39m \u001b[43m                        \u001b[49m\u001b[43mrestore_signals\u001b[49m\u001b[43m,\u001b[49m\n\u001b[32m   1033\u001b[39m \u001b[43m                        \u001b[49m\u001b[43mgid\u001b[49m\u001b[43m,\u001b[49m\u001b[43m \u001b[49m\u001b[43mgids\u001b[49m\u001b[43m,\u001b[49m\u001b[43m \u001b[49m\u001b[43muid\u001b[49m\u001b[43m,\u001b[49m\u001b[43m \u001b[49m\u001b[43mumask\u001b[49m\u001b[43m,\u001b[49m\n\u001b[32m   1034\u001b[39m \u001b[43m                        \u001b[49m\u001b[43mstart_new_session\u001b[49m\u001b[43m,\u001b[49m\u001b[43m \u001b[49m\u001b[43mprocess_group\u001b[49m\u001b[43m)\u001b[49m\n\u001b[32m   1035\u001b[39m \u001b[38;5;28;01mexcept\u001b[39;00m:\n\u001b[32m   1036\u001b[39m     \u001b[38;5;66;03m# Cleanup if the child failed starting.\u001b[39;00m\n\u001b[32m   1037\u001b[39m     \u001b[38;5;28;01mfor\u001b[39;00m f \u001b[38;5;129;01min\u001b[39;00m \u001b[38;5;28mfilter\u001b[39m(\u001b[38;5;28;01mNone\u001b[39;00m, (\u001b[38;5;28mself\u001b[39m.stdin, \u001b[38;5;28mself\u001b[39m.stdout, \u001b[38;5;28mself\u001b[39m.stderr)):\n",
      "\u001b[36mFile \u001b[39m\u001b[32md:\\ProgramData\\miniconda3\\envs\\e1\\Lib\\subprocess.py:1538\u001b[39m, in \u001b[36mPopen._execute_child\u001b[39m\u001b[34m(self, args, executable, preexec_fn, close_fds, pass_fds, cwd, env, startupinfo, creationflags, shell, p2cread, p2cwrite, c2pread, c2pwrite, errread, errwrite, unused_restore_signals, unused_gid, unused_gids, unused_uid, unused_umask, unused_start_new_session, unused_process_group)\u001b[39m\n\u001b[32m   1536\u001b[39m \u001b[38;5;66;03m# Start the process\u001b[39;00m\n\u001b[32m   1537\u001b[39m \u001b[38;5;28;01mtry\u001b[39;00m:\n\u001b[32m-> \u001b[39m\u001b[32m1538\u001b[39m     hp, ht, pid, tid = \u001b[43m_winapi\u001b[49m\u001b[43m.\u001b[49m\u001b[43mCreateProcess\u001b[49m\u001b[43m(\u001b[49m\u001b[43mexecutable\u001b[49m\u001b[43m,\u001b[49m\u001b[43m \u001b[49m\u001b[43margs\u001b[49m\u001b[43m,\u001b[49m\n\u001b[32m   1539\u001b[39m \u001b[43m                             \u001b[49m\u001b[38;5;66;43;03m# no special security\u001b[39;49;00m\n\u001b[32m   1540\u001b[39m \u001b[43m                             \u001b[49m\u001b[38;5;28;43;01mNone\u001b[39;49;00m\u001b[43m,\u001b[49m\u001b[43m \u001b[49m\u001b[38;5;28;43;01mNone\u001b[39;49;00m\u001b[43m,\u001b[49m\n\u001b[32m   1541\u001b[39m \u001b[43m                             \u001b[49m\u001b[38;5;28;43mint\u001b[39;49m\u001b[43m(\u001b[49m\u001b[38;5;129;43;01mnot\u001b[39;49;00m\u001b[43m \u001b[49m\u001b[43mclose_fds\u001b[49m\u001b[43m)\u001b[49m\u001b[43m,\u001b[49m\n\u001b[32m   1542\u001b[39m \u001b[43m                             \u001b[49m\u001b[43mcreationflags\u001b[49m\u001b[43m,\u001b[49m\n\u001b[32m   1543\u001b[39m \u001b[43m                             \u001b[49m\u001b[43menv\u001b[49m\u001b[43m,\u001b[49m\n\u001b[32m   1544\u001b[39m \u001b[43m                             \u001b[49m\u001b[43mcwd\u001b[49m\u001b[43m,\u001b[49m\n\u001b[32m   1545\u001b[39m \u001b[43m                             \u001b[49m\u001b[43mstartupinfo\u001b[49m\u001b[43m)\u001b[49m\n\u001b[32m   1546\u001b[39m \u001b[38;5;28;01mfinally\u001b[39;00m:\n\u001b[32m   1547\u001b[39m     \u001b[38;5;66;03m# Child is launched. Close the parent's copy of those pipe\u001b[39;00m\n\u001b[32m   1548\u001b[39m     \u001b[38;5;66;03m# handles that only the child should have open.  You need\u001b[39;00m\n\u001b[32m   (...)\u001b[39m\u001b[32m   1551\u001b[39m     \u001b[38;5;66;03m# pipe will not close when the child process exits and the\u001b[39;00m\n\u001b[32m   1552\u001b[39m     \u001b[38;5;66;03m# ReadFile will hang.\u001b[39;00m\n\u001b[32m   1553\u001b[39m     \u001b[38;5;28mself\u001b[39m._close_pipe_fds(p2cread, p2cwrite,\n\u001b[32m   1554\u001b[39m                          c2pread, c2pwrite,\n\u001b[32m   1555\u001b[39m                          errread, errwrite)\n",
      "\u001b[36mFile \u001b[39m\u001b[32md:\\ProgramData\\miniconda3\\envs\\e1\\Lib\\site-packages\\debugpy\\_vendored\\pydevd\\_pydev_bundle\\pydev_monkey.py:909\u001b[39m, in \u001b[36mcreate_CreateProcess.<locals>.new_CreateProcess\u001b[39m\u001b[34m(app_name, cmd_line, *args)\u001b[39m\n\u001b[32m    907\u001b[39m \u001b[38;5;28;01mif\u001b[39;00m _get_apply_arg_patching():\n\u001b[32m    908\u001b[39m     cmd_line = patch_arg_str_win(cmd_line)\n\u001b[32m--> \u001b[39m\u001b[32m909\u001b[39m     \u001b[43msend_process_created_message\u001b[49m\u001b[43m(\u001b[49m\u001b[43m)\u001b[49m\n\u001b[32m    911\u001b[39m \u001b[38;5;28;01mreturn\u001b[39;00m \u001b[38;5;28mgetattr\u001b[39m(_subprocess, original_name)(app_name, cmd_line, *args)\n",
      "\u001b[36mFile \u001b[39m\u001b[32md:\\ProgramData\\miniconda3\\envs\\e1\\Lib\\site-packages\\debugpy\\_vendored\\pydevd\\_pydev_bundle\\pydev_monkey.py:979\u001b[39m, in \u001b[36msend_process_created_message\u001b[39m\u001b[34m()\u001b[39m\n\u001b[32m    977\u001b[39m py_db = get_global_debugger()\n\u001b[32m    978\u001b[39m \u001b[38;5;28;01mif\u001b[39;00m py_db \u001b[38;5;129;01mis\u001b[39;00m \u001b[38;5;129;01mnot\u001b[39;00m \u001b[38;5;28;01mNone\u001b[39;00m:\n\u001b[32m--> \u001b[39m\u001b[32m979\u001b[39m     \u001b[43mpy_db\u001b[49m\u001b[43m.\u001b[49m\u001b[43msend_process_created_message\u001b[49m\u001b[43m(\u001b[49m\u001b[43m)\u001b[49m\n",
      "\u001b[36mFile \u001b[39m\u001b[32md:\\ProgramData\\miniconda3\\envs\\e1\\Lib\\site-packages\\debugpy\\_vendored\\pydevd\\pydevd.py:2024\u001b[39m, in \u001b[36mPyDB.send_process_created_message\u001b[39m\u001b[34m(self)\u001b[39m\n\u001b[32m   2022\u001b[39m \u001b[38;5;28;01mif\u001b[39;00m \u001b[38;5;28mself\u001b[39m.writer \u001b[38;5;129;01mis\u001b[39;00m \u001b[38;5;28;01mNone\u001b[39;00m \u001b[38;5;129;01mor\u001b[39;00m \u001b[38;5;28mself\u001b[39m.cmd_factory \u001b[38;5;129;01mis\u001b[39;00m \u001b[38;5;28;01mNone\u001b[39;00m:\n\u001b[32m   2023\u001b[39m     \u001b[38;5;28;01mreturn\u001b[39;00m\n\u001b[32m-> \u001b[39m\u001b[32m2024\u001b[39m cmd = \u001b[38;5;28;43mself\u001b[39;49m\u001b[43m.\u001b[49m\u001b[43mcmd_factory\u001b[49m\u001b[43m.\u001b[49m\u001b[43mmake_process_created_message\u001b[49m\u001b[43m(\u001b[49m\u001b[43m)\u001b[49m\n\u001b[32m   2025\u001b[39m \u001b[38;5;28mself\u001b[39m.writer.add_command(cmd)\n",
      "\u001b[36mFile \u001b[39m\u001b[32md:\\ProgramData\\miniconda3\\envs\\e1\\Lib\\site-packages\\debugpy\\_vendored\\pydevd\\_pydevd_bundle\\pydevd_net_command_factory_json.py:459\u001b[39m, in \u001b[36mNetCommandFactoryJson.make_process_created_message\u001b[39m\u001b[34m(self, *args, **kwargs)\u001b[39m\n\u001b[32m    455\u001b[39m \u001b[38;5;129m@overrides\u001b[39m(NetCommandFactory.make_send_breakpoint_exception_message)\n\u001b[32m    456\u001b[39m \u001b[38;5;28;01mdef\u001b[39;00m\u001b[38;5;250m \u001b[39m\u001b[34mmake_send_breakpoint_exception_message\u001b[39m(\u001b[38;5;28mself\u001b[39m, *args, **kwargs):\n\u001b[32m    457\u001b[39m     \u001b[38;5;28;01mreturn\u001b[39;00m NULL_NET_COMMAND  \u001b[38;5;66;03m# Not a part of the debug adapter protocol\u001b[39;00m\n\u001b[32m--> \u001b[39m\u001b[32m459\u001b[39m \u001b[38;5;129m@overrides\u001b[39m(NetCommandFactory.make_process_created_message)\n\u001b[32m    460\u001b[39m \u001b[38;5;28;01mdef\u001b[39;00m\u001b[38;5;250m \u001b[39m\u001b[34mmake_process_created_message\u001b[39m(\u001b[38;5;28mself\u001b[39m, *args, **kwargs):\n\u001b[32m    461\u001b[39m     \u001b[38;5;28;01mreturn\u001b[39;00m NULL_NET_COMMAND  \u001b[38;5;66;03m# Not a part of the debug adapter protocol\u001b[39;00m\n\u001b[32m    463\u001b[39m \u001b[38;5;129m@overrides\u001b[39m(NetCommandFactory.make_process_about_to_be_replaced_message)\n\u001b[32m    464\u001b[39m \u001b[38;5;28;01mdef\u001b[39;00m\u001b[38;5;250m \u001b[39m\u001b[34mmake_process_about_to_be_replaced_message\u001b[39m(\u001b[38;5;28mself\u001b[39m):\n",
      "\u001b[36mFile \u001b[39m\u001b[32md:\\ProgramData\\miniconda3\\envs\\e1\\Lib\\site-packages\\debugpy\\_vendored\\pydevd\\_pydevd_bundle\\pydevd_net_command_factory_json.py:459\u001b[39m, in \u001b[36mNetCommandFactoryJson.make_process_created_message\u001b[39m\u001b[34m(self, *args, **kwargs)\u001b[39m\n\u001b[32m    455\u001b[39m \u001b[38;5;129m@overrides\u001b[39m(NetCommandFactory.make_send_breakpoint_exception_message)\n\u001b[32m    456\u001b[39m \u001b[38;5;28;01mdef\u001b[39;00m\u001b[38;5;250m \u001b[39m\u001b[34mmake_send_breakpoint_exception_message\u001b[39m(\u001b[38;5;28mself\u001b[39m, *args, **kwargs):\n\u001b[32m    457\u001b[39m     \u001b[38;5;28;01mreturn\u001b[39;00m NULL_NET_COMMAND  \u001b[38;5;66;03m# Not a part of the debug adapter protocol\u001b[39;00m\n\u001b[32m--> \u001b[39m\u001b[32m459\u001b[39m \u001b[38;5;129m@overrides\u001b[39m(NetCommandFactory.make_process_created_message)\n\u001b[32m    460\u001b[39m \u001b[38;5;28;01mdef\u001b[39;00m\u001b[38;5;250m \u001b[39m\u001b[34mmake_process_created_message\u001b[39m(\u001b[38;5;28mself\u001b[39m, *args, **kwargs):\n\u001b[32m    461\u001b[39m     \u001b[38;5;28;01mreturn\u001b[39;00m NULL_NET_COMMAND  \u001b[38;5;66;03m# Not a part of the debug adapter protocol\u001b[39;00m\n\u001b[32m    463\u001b[39m \u001b[38;5;129m@overrides\u001b[39m(NetCommandFactory.make_process_about_to_be_replaced_message)\n\u001b[32m    464\u001b[39m \u001b[38;5;28;01mdef\u001b[39;00m\u001b[38;5;250m \u001b[39m\u001b[34mmake_process_about_to_be_replaced_message\u001b[39m(\u001b[38;5;28mself\u001b[39m):\n",
      "\u001b[36mFile \u001b[39m\u001b[32m_pydevd_bundle\\\\pydevd_cython.pyx:1697\u001b[39m, in \u001b[36m_pydevd_bundle.pydevd_cython.SafeCallWrapper.__call__\u001b[39m\u001b[34m()\u001b[39m\n",
      "\u001b[36mFile \u001b[39m\u001b[32m_pydevd_bundle\\\\pydevd_cython.pyx:2056\u001b[39m, in \u001b[36m_pydevd_bundle.pydevd_cython.ThreadTracer.__call__\u001b[39m\u001b[34m()\u001b[39m\n",
      "\u001b[36mFile \u001b[39m\u001b[32md:\\ProgramData\\miniconda3\\envs\\e1\\Lib\\site-packages\\debugpy\\_vendored\\pydevd\\pydevd_file_utils.py:955\u001b[39m, in \u001b[36mget_abs_path_real_path_and_base_from_frame\u001b[39m\u001b[34m(frame, NORM_PATHS_AND_BASE_CONTAINER)\u001b[39m\n\u001b[32m    952\u001b[39m     i = \u001b[38;5;28mmax\u001b[39m(f.rfind(\u001b[33m\"\u001b[39m\u001b[33m/\u001b[39m\u001b[33m\"\u001b[39m), f.rfind(\u001b[33m\"\u001b[39m\u001b[38;5;130;01m\\\\\u001b[39;00m\u001b[33m\"\u001b[39m))\n\u001b[32m    953\u001b[39m     \u001b[38;5;28;01mreturn\u001b[39;00m f, f, f[i + \u001b[32m1\u001b[39m :]\n\u001b[32m--> \u001b[39m\u001b[32m955\u001b[39m ret = \u001b[43mget_abs_path_real_path_and_base_from_file\u001b[49m\u001b[43m(\u001b[49m\u001b[43mf\u001b[49m\u001b[43m)\u001b[49m\n\u001b[32m    956\u001b[39m \u001b[38;5;66;03m# Also cache based on the frame.f_code.co_filename (if we had it inside build/bdist it can make a difference).\u001b[39;00m\n\u001b[32m    957\u001b[39m NORM_PATHS_AND_BASE_CONTAINER[frame.f_code.co_filename] = ret\n",
      "\u001b[36mFile \u001b[39m\u001b[32md:\\ProgramData\\miniconda3\\envs\\e1\\Lib\\site-packages\\debugpy\\_vendored\\pydevd\\pydevd_file_utils.py:922\u001b[39m, in \u001b[36mget_abs_path_real_path_and_base_from_file\u001b[39m\u001b[34m(filename, NORM_PATHS_AND_BASE_CONTAINER)\u001b[39m\n\u001b[32m    919\u001b[39m     \u001b[38;5;28;01melif\u001b[39;00m f.endswith(\u001b[33m\"\u001b[39m\u001b[33m$py.class\u001b[39m\u001b[33m\"\u001b[39m):\n\u001b[32m    920\u001b[39m         f = f[: -\u001b[38;5;28mlen\u001b[39m(\u001b[33m\"\u001b[39m\u001b[33m$py.class\u001b[39m\u001b[33m\"\u001b[39m)] + \u001b[33m\"\u001b[39m\u001b[33m.py\u001b[39m\u001b[33m\"\u001b[39m\n\u001b[32m--> \u001b[39m\u001b[32m922\u001b[39m abs_path, canonical_normalized_filename = \u001b[43m_abs_and_canonical_path\u001b[49m\u001b[43m(\u001b[49m\u001b[43mf\u001b[49m\u001b[43m)\u001b[49m\n\u001b[32m    924\u001b[39m \u001b[38;5;28;01mtry\u001b[39;00m:\n\u001b[32m    925\u001b[39m     base = os_path_basename(canonical_normalized_filename)\n",
      "\u001b[36mFile \u001b[39m\u001b[32md:\\ProgramData\\miniconda3\\envs\\e1\\Lib\\site-packages\\debugpy\\_vendored\\pydevd\\pydevd_file_utils.py:459\u001b[39m, in \u001b[36m_abs_and_canonical_path\u001b[39m\u001b[34m(filename, NORM_PATHS_CONTAINER)\u001b[39m\n\u001b[32m    456\u001b[39m abs_path = _apply_func_and_normalize_case(filename, os_path_abspath, isabs, normalize)\n\u001b[32m    458\u001b[39m normalize = \u001b[38;5;28;01mTrue\u001b[39;00m\n\u001b[32m--> \u001b[39m\u001b[32m459\u001b[39m real_path = \u001b[43m_apply_func_and_normalize_case\u001b[49m\u001b[43m(\u001b[49m\u001b[43mfilename\u001b[49m\u001b[43m,\u001b[49m\u001b[43m \u001b[49m\u001b[43mos_path_real_path\u001b[49m\u001b[43m,\u001b[49m\u001b[43m \u001b[49m\u001b[43misabs\u001b[49m\u001b[43m,\u001b[49m\u001b[43m \u001b[49m\u001b[43mnormalize\u001b[49m\u001b[43m)\u001b[49m\n\u001b[32m    461\u001b[39m \u001b[38;5;66;03m# cache it for fast access later\u001b[39;00m\n\u001b[32m    462\u001b[39m NORM_PATHS_CONTAINER[filename] = abs_path, real_path\n",
      "\u001b[36mFile \u001b[39m\u001b[32md:\\ProgramData\\miniconda3\\envs\\e1\\Lib\\site-packages\\debugpy\\_vendored\\pydevd\\pydevd_file_utils.py:486\u001b[39m, in \u001b[36m_apply_func_and_normalize_case\u001b[39m\u001b[34m(filename, func, isabs, normalize_case, os_path_exists, join)\u001b[39m\n\u001b[32m    481\u001b[39m \u001b[38;5;28;01mif\u001b[39;00m filename.startswith(\u001b[33m\"\u001b[39m\u001b[33m<\u001b[39m\u001b[33m\"\u001b[39m):\n\u001b[32m    482\u001b[39m     \u001b[38;5;66;03m# Not really a file, rather a synthetic name like <string> or <ipython-...>;\u001b[39;00m\n\u001b[32m    483\u001b[39m     \u001b[38;5;66;03m# shouldn't be normalized.\u001b[39;00m\n\u001b[32m    484\u001b[39m     \u001b[38;5;28;01mreturn\u001b[39;00m filename\n\u001b[32m--> \u001b[39m\u001b[32m486\u001b[39m r = \u001b[43mfunc\u001b[49m\u001b[43m(\u001b[49m\u001b[43mfilename\u001b[49m\u001b[43m)\u001b[49m\n\u001b[32m    488\u001b[39m \u001b[38;5;28;01mif\u001b[39;00m \u001b[38;5;129;01mnot\u001b[39;00m isabs:\n\u001b[32m    489\u001b[39m     \u001b[38;5;28;01mif\u001b[39;00m \u001b[38;5;129;01mnot\u001b[39;00m os_path_exists(r):\n",
      "\u001b[36mFile \u001b[39m\u001b[32m<frozen ntpath>:696\u001b[39m, in \u001b[36mrealpath\u001b[39m\u001b[34m(path, strict)\u001b[39m\n",
      "\u001b[31mKeyboardInterrupt\u001b[39m: "
     ]
    }
   ],
   "source": [
    "if not run_test:\n",
    "    from cross_exp.exp_crossformer import Exp_crossformer\n",
    "    from data.data_loader import DatasetMTS\n",
    "    data_parser = {\n",
    "        \"vols\": {\n",
    "            'data':'vols',\n",
    "            \"patience\":epochs[0],\n",
    "            \"train_epochs\":epochs[1],\n",
    "            'learning_rate':0.01,\n",
    "            'data_split':[0.7,0.15,0.15],\n",
    "            'batch_size':batch_size*2//5,\n",
    "            'e_layers':5,\n",
    "            'd_model':512,\n",
    "            'lradj':'type2',\n",
    "            \"checkpoints\":\"./checkpoints/\",\n",
    "            'root_path':mydrive+valData,\n",
    "            'data_path':tables,\n",
    "            'weight':weight[0],\n",
    "            'alpha2':5,\n",
    "            'alpham':0.1\n",
    "        },\n",
    "        \"prcs\":{\n",
    "            'data':'prcs',\n",
    "            'weight':weight[1],\n",
    "            'alpha2':0.2,\n",
    "            'alpham':10\n",
    "        }\n",
    "        }\n",
    "    s=epochs[3]\n",
    "    for _ in range(epochs[2]):\n",
    "        data_parser[\"vols\"][\"learning_rate\"]=.01\n",
    "        for i in range(epochs[2]):\n",
    "            for ii in range(s,itr):\n",
    "                # setting record of experiments\n",
    "                # data_parser[\"vols\"]['weight']=weight[0]\n",
    "                setting=update_args(args,data_parser,ii)    \n",
    "                DatasetMTS.clear()\n",
    "                # drive.mount('/content/drive/',force_remount=True)\n",
    "                !google-drive-ocamlfuse -cc\n",
    "                \n",
    "                exp = Exp_crossformer(args)  # set experiments\n",
    "                print(f\">>>>>>>start training : {setting}>>>>>>>>>>>>>>>>>>>>>>>>>>\")\n",
    "                exp.train(setting, \"vols\")\n",
    "\n",
    "                print(f\">>>>>>>testing : {setting}<<<<<<<<<<<<<<<<<<<<<<<<<<<<<<<<<\")\n",
    "                preds, trues,_ = exp.test(setting, 'vols', True, data_path=[tables[-1]], inverse=True)\n",
    "                print(preds.shape, trues.shape)\n",
    "\n",
    "                # data_parser[\"vols\"]['weight']=weight[1]\n",
    "                setting=update_args(args,data_parser,ii,'prcs')\n",
    "                DatasetMTS.clear()\n",
    "                exp = Exp_crossformer(args)  # set experiments\n",
    "                print(f\">>>>>>>start training : {setting}>>>>>>>>>>>>>>>>>>>>>>>>>>\")\n",
    "                exp.train(setting, \"prcs\")\n",
    "                preds, trues,_ = exp.test(setting, 'prcs', True, data_path=[tables[-1]], inverse=True)\n",
    "                print(preds.shape, trues.shape)\n",
    "            data_parser[\"vols\"][\"learning_rate\"]/=3.\n",
    "            s=0"
   ]
  },
  {
   "cell_type": "code",
   "execution_count": null,
   "metadata": {
    "id": "4kj_rRG1J66H"
   },
   "outputs": [],
   "source": [
    "if not run_test:\n",
    "    from google.colab import runtime\n",
    "    runtime.unassign()"
   ]
  },
  {
   "cell_type": "markdown",
   "metadata": {
    "id": "066vGmCNJTzY"
   },
   "source": [
    "# test"
   ]
  },
  {
   "cell_type": "code",
   "execution_count": null,
   "metadata": {
    "id": "w03KqC8jJTzY"
   },
   "outputs": [],
   "source": [
    "from data.data_loader import DatasetMTS\n",
    "from data.data_def import data_columns, data_names\n",
    "data_parser = {\n",
    "    \"vols\": {\n",
    "        'e_layers':5,\n",
    "        'd_model':512,\n",
    "        'lradj':'type2',\n",
    "        'weight':weight[0],\n",
    "        'root_path':mydrive+valData,\n",
    "    },\n",
    "    }\n",
    "test_set='vols'\n",
    "dep_var=data_names(data_columns(test_set),20)[0]\n",
    "labels=[[f'm{i}' for i in range(itr)],tables,[\"mae\", \"mse\", \"rmse\", \"mape\", \"wmse\", \"accr\"]]\n",
    "metrics=np.empty((0,len(tables),metrics_cnt))\n",
    "for i in range(itr):\n",
    "  setting=update_args(args,data_parser,i)    \n",
    "  DatasetMTS.clear()\n",
    "  exp = Exp_crossformer(args)\n",
    "  print(f\">>>>>>>testing : {setting}<<<<<<<<<<<<<<<<<<<<<<<<<<<<<<<<<\")\n",
    "  results = []\n",
    "  for table in tables:\n",
    "      results.append(exp.test(setting, 'vols', True, data_path=[table], inverse=True))\n",
    "  metrics=regplot(dep_var,metrics,4,i)\n",
    "\n",
    "print(metrics)\n",
    "plot_metric(metrics,labels)"
   ]
  },
  {
   "cell_type": "markdown",
   "metadata": {
    "id": "wkGkKgp98ua9"
   },
   "source": [
    "## hlc"
   ]
  },
  {
   "cell_type": "code",
   "execution_count": null,
   "metadata": {
    "id": "JKW9afa-cENf"
   },
   "outputs": [],
   "source": [
    "from data.data_loader import DatasetMTS\n",
    "from data.data_def import data_columns, data_names\n",
    "import pandas as pd\n",
    "\n",
    "test_set='prcs'\n",
    "data_parser = {\n",
    "    \"vols\": {\n",
    "        'e_layers':5,\n",
    "        'd_model':512,\n",
    "        'lradj':'type2',\n",
    "        'root_path':mydrive+valData,\n",
    "        'weight':weight[1]#0.8#\n",
    "    },\n",
    "    }\n",
    "plot_hlc()"
   ]
  },
  {
   "cell_type": "markdown",
   "metadata": {
    "id": "L9IXNP9K8ua-"
   },
   "source": [
    "## horizon\n"
   ]
  },
  {
   "cell_type": "code",
   "execution_count": null,
   "metadata": {
    "id": "rpzR-1aN8ua-"
   },
   "outputs": [],
   "source": [
    "from data.data_loader import DatasetMTS\n",
    "from cross_exp.exp_crossformer import Exp_crossformer\n",
    "test_set='vols'\n",
    "\n",
    "labels=[[f'm{i}' for i in range(itr)] ,[f'h{5-h}' for h in range(5)],[\"mae\", \"mse\", \"rmse\", \"mape\", \"wmse\", \"accr\"]]\n",
    "dep_var=data_names(data_columns(test_set),20)[0]\n",
    "metrics=np.empty((0,len(labels[1]),len(labels[2])))\n",
    "for i in range(itr):\n",
    "  results = []\n",
    "  for h in range(5):\n",
    "    data_parser = {\n",
    "    \"vols\": {\n",
    "        'e_layers':5,\n",
    "        'd_model':512,\n",
    "        'lradj':'type2',\n",
    "        \"query\": f\"floor(horizon)=={5-h}\",\n",
    "        'weight':weight[0],\n",
    "        'root_path':mydrive+valData,\n",
    "        'data_path':tables,    \n",
    "    },\n",
    "    }\n",
    "    setting=update_args(args,data_parser,i)\n",
    "    DatasetMTS.clear()\n",
    "    exp = Exp_crossformer(args)\n",
    "    print(f\">>>>>>>testing : {data_parser['vols']['query']} m{i}h{5-h}<<<<<<<<<<<<<<<<<<<<<<<<<<<<<<<<<\")\n",
    "    results.append(exp.test(setting, 'vols', True, inverse=True))\n",
    "  metrics=regplot(dep_var,metrics,4,i)\n",
    "\n",
    "print(metrics)\n",
    "plot_metric(metrics,labels)"
   ]
  },
  {
   "cell_type": "markdown",
   "metadata": {
    "id": "KBfRZp9y8ua-"
   },
   "source": [
    "## cutline"
   ]
  },
  {
   "cell_type": "code",
   "execution_count": null,
   "metadata": {
    "id": "F6WWmBSmcENg"
   },
   "outputs": [],
   "source": [
    "from cross_exp.exp_crossformer import Exp_crossformer\n",
    "from data.data_loader import DatasetMTS\n",
    "from data.data_def import data_columns, data_names\n",
    "test_set='vols'\n",
    "\n",
    "data_parser = {\n",
    "    \"vols\": {\n",
    "        'e_layers':5,\n",
    "        'd_model':512,\n",
    "        \"query\": f\"date>'#{cutdate}'\",\n",
    "        'root_path':mydrive+testData,\n",
    "        'weight':weight[0],    \n",
    "    },\n",
    "    }\n",
    "\n",
    "dep_var=data_names(data_columns(test_set),20)[0]\n",
    "labels=[[f'm{i}' for i in range(itr)],tables,[\"mae\", \"mse\", \"rmse\", \"mape\", \"wmse\", \"accr\"]]\n",
    "metrics=np.empty((0,len(tables),metrics_cnt))\n",
    "for i in range(itr):\n",
    "  setting=update_args(args,data_parser,i)\n",
    "  DatasetMTS.clear()\n",
    "  exp = Exp_crossformer(args)\n",
    "  print(f\">>>>>>>testing : {setting}<<<<<<<<<<<<<<<<<<<<<<<<<<<<<<<<<\")\n",
    "  results = []\n",
    "  for table in tables:\n",
    "      results.append(exp.test(setting, 'vols', True, data_path=[table], inverse=True))\n",
    "  metrics=regplot(dep_var,metrics,4,i)\n",
    "\n",
    "print(metrics)\n",
    "plot_metric(metrics,labels)"
   ]
  },
  {
   "cell_type": "markdown",
   "metadata": {
    "id": "rWJgEQeu8ua_"
   },
   "source": [
    "## hlc"
   ]
  },
  {
   "cell_type": "code",
   "execution_count": null,
   "metadata": {
    "id": "FFlVJgjocENh"
   },
   "outputs": [],
   "source": [
    "from data.data_loader import DatasetMTS\n",
    "from data.data_def import data_columns, data_names\n",
    "import pandas as pd\n",
    "\n",
    "test_set='prcs'\n",
    "data_parser = {\n",
    "    \"vols\": {\n",
    "        'e_layers':5,\n",
    "        'd_model':512,\n",
    "        'lradj':'type2',\n",
    "        \"query\": f\"date>'#{cutdate}'\",\n",
    "        'root_path':mydrive+testData,\n",
    "        'weight':weight[1],\n",
    "        },\n",
    "    }\n",
    "plot_hlc()"
   ]
  },
  {
   "cell_type": "markdown",
   "metadata": {
    "id": "Ff1dksSt8ubA"
   },
   "source": [
    "## horizon\n"
   ]
  },
  {
   "cell_type": "code",
   "execution_count": null,
   "metadata": {
    "id": "VPL62tkj8ubA"
   },
   "outputs": [],
   "source": [
    "from data.data_loader import DatasetMTS\n",
    "from cross_exp.exp_crossformer import Exp_crossformer\n",
    "from data.data_def import data_columns, data_names\n",
    "test_set='vols'\n",
    "labels=[[f'm{i}' for i in range(itr)] ,[f'h{5-h}' for h in range(5)],[\"mae\", \"mse\", \"rmse\", \"mape\", \"wmse\", \"accr\"]]\n",
    "dep_var=data_names(data_columns(test_set),20)[0]\n",
    "metrics=np.empty((0,len(labels[1]),len(labels[2])))\n",
    "for i in range(itr):\n",
    "  results = []\n",
    "  for h in range(5):\n",
    "    data_parser = {\n",
    "    \"vols\": {\n",
    "        'e_layers':5,\n",
    "        'd_model':512,\n",
    "        'lradj':'type2',\n",
    "        'root_path':mydrive+testData,\n",
    "        \"query\": f\"date>'#{cutdate}' and floor(horizon)=={5-h}\",\n",
    "        'weight':weight[0],\n",
    "        'data_path':tables,    \n",
    "    },\n",
    "    }\n",
    "    setting=update_args(args,data_parser,i)\n",
    "    DatasetMTS.clear()\n",
    "    exp = Exp_crossformer(args)\n",
    "    print(f\">>>>>>>testing : {data_parser['vols']['query']} m{i}h{5-h}<<<<<<<<<<<<<<<<<<<<<<<<<<<<<<<<<\")\n",
    "    results.append(exp.test(setting, 'vols', True, inverse=True))\n",
    "  metrics=regplot(dep_var,metrics,4,i)\n",
    "\n",
    "print(metrics)\n",
    "plot_metric(metrics,labels)"
   ]
  },
  {
   "cell_type": "markdown",
   "metadata": {
    "id": "jI4GPCiA8ubA"
   },
   "source": [
    "# end"
   ]
  },
  {
   "cell_type": "code",
   "execution_count": null,
   "metadata": {
    "id": "45zLIW5xJTza"
   },
   "outputs": [],
   "source": [
    "plt.show()\n",
    "from google.colab import runtime\n",
    "runtime.unassign()"
   ]
  }
 ],
 "metadata": {
  "accelerator": "GPU",
  "colab": {
   "gpuType": "V100",
   "machine_shape": "hm",
   "provenance": [],
   "toc_visible": true
  },
  "kernelspec": {
   "display_name": "e1",
   "language": "python",
   "name": "python3"
  },
  "language_info": {
   "codemirror_mode": {
    "name": "ipython",
    "version": 3
   },
   "file_extension": ".py",
   "mimetype": "text/x-python",
   "name": "python",
   "nbconvert_exporter": "python",
   "pygments_lexer": "ipython3",
   "version": "3.11.9"
  }
 },
 "nbformat": 4,
 "nbformat_minor": 0
}
