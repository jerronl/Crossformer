{
 "cells": [
  {
   "cell_type": "markdown",
   "metadata": {
    "id": "5KB0_RDrJTzT"
   },
   "source": [
    "# setup"
   ]
  },
  {
   "cell_type": "code",
   "execution_count": 7,
   "metadata": {
    "id": "JaXYxzifbhst"
   },
   "outputs": [
    {
     "name": "stdout",
     "output_type": "stream",
     "text": [
      "The autoreload extension is already loaded. To reload it, use:\n",
      "  %reload_ext autoreload\n",
      "E:\\mydoc\\git\\trade\\analyics\n"
     ]
    }
   ],
   "source": [
    "run_test=True\n",
    "# run_test=False\n",
    "epochs=(1,1,1,4)\n",
    "epochs=(15,500,3,4)\n",
    "cutdate='2024-12-20'\n",
    "valData=''\n",
    "testData=''\n",
    "testData='new/'\n",
    "weight=(0.8,1.0)\n",
    "itr=5\n",
    "metrics_cnt=6\n",
    "import torch,sys\n",
    "\n",
    "if 'google.colab' in str(get_ipython()):\n",
    "  from google.colab import drive\n",
    "  drive.mount('/content/drive')\n",
    "  mydrive='/content/drive/MyDrive/volrt/'\n",
    "  source_path=mydrive+\"git/Crossformer\"\n",
    "  tables = [ 'volvTSLA.csv', 'volvAAPL.csv', 'volvGOOG.csv','volvNVDA.csv', ]\n",
    "  batch_size=int(torch.cuda.get_device_properties(0).total_memory/1e9+.5)*32\n",
    "  import os,sys\n",
    "  if not os.path.exists(source_path):\n",
    "    %cd $mydrive/git\n",
    "    !git clone https://github.com/jerronl/Crossformer.git\n",
    "    %cd $source_path\n",
    "  else:\n",
    "    %cd $source_path\n",
    "    # !git reset --hard HEAD\n",
    "    # !git pull origin master\n",
    "  %pip install einops #scikit-learn\n",
    "  sys.path.append( source_path)\n",
    "else:\n",
    "  tables = [ 'volvAAPL.csv']\n",
    "  testData=''\n",
    "  mydrive= 'E:/mydoc/git/trade/analyics/'\n",
    "  batch_size=32\n",
    "  sys.path.append(\"G:/git/Crossformer1/\")\n",
    "  itr=1\n",
    "  %load_ext autoreload\n",
    "  %autoreload 2\n",
    "%cd $mydrive\n"
   ]
  },
  {
   "cell_type": "code",
   "execution_count": 8,
   "metadata": {
    "id": "dQsiHS9i8ua4"
   },
   "outputs": [],
   "source": [
    "from cross_exp.exp_crossformer import Exp_crossformer\n",
    "\n",
    "\n",
    "from utils.tools import init_args,update_args\n",
    "import seaborn as sns, numpy as np,math\n",
    "import matplotlib.pyplot as plt\n",
    "from data.data_def import set_cat\n",
    "set_cat(20)\n",
    "args=init_args()\n",
    "data_parser={}\n",
    "\n",
    "\n",
    "def regplot(dep_var, metrics, cols, itr=None, figsize=4):\n",
    "    cnt = len(dep_var) - dep_var.count(\"_\")\n",
    "    figs = min(cnt, cols)\n",
    "    _, axes = plt.subplots(math.ceil(cnt / figs), figs, figsize=(figsize*figs,figsize*max(1,(cnt-1)//figs+1)))\n",
    "    j = 0\n",
    "\n",
    "    for i, name in enumerate(dep_var):\n",
    "        if name != \"_\":\n",
    "            # if itr:\n",
    "            name=f'{itr}_{name}'\n",
    "            axs = axes.flat[j] if figs > 1 else axes\n",
    "            j = j + 1\n",
    "            left, right = 999, -999\n",
    "            ax2=axs.twinx()\n",
    "            max_hist=0\n",
    "            for ii in range(len(results)):\n",
    "                preds, trues, _ = results[ii]\n",
    "                h,_,_=ax2.hist(trues[:, i], density=True,alpha=0.2,color=f\"C{ii}\")\n",
    "                max_hist=max(max_hist,np.max(h))\n",
    "                sns.regplot(\n",
    "                    ax=axs,\n",
    "                    x=trues[:, i],\n",
    "                    y=preds[:, i],\n",
    "                    scatter_kws={\"color\": f\"C{ii}\", \"alpha\": 0.2},\n",
    "                    line_kws={\"color\": f\"C{ii}\", \"alpha\": 0.4},\n",
    "                    label=labels[1][ii],\n",
    "                )\n",
    "                mask = ~np.isnan(trues[:, i])\n",
    "                if not dep_var[i][:3] in [\"dtm\", \"pmc\"]:\n",
    "                    left = min(left, max(np.min(trues[:, i][mask]), -5))\n",
    "                    right = max(right, min(np.max(trues[:, i][mask]), 5))\n",
    "                else:\n",
    "                    left = min(left, np.min(trues[:, i][mask]))\n",
    "                    right = max(right, np.max(trues[:, i][mask]))\n",
    "            ax2.tick_params(axis='y', labelleft=False, labelright=False, left=False, right=False)\n",
    "            ax2.set_ylim(0, max_hist*3)\n",
    "            ax2.set_ylabel('')\n",
    "            axs.set_title(name)\n",
    "            xmin, xmax = axs.get_ylim()\n",
    "            left, right=min(-0.01,min(left,xmin)),max(0.01,max(xmax, right))\n",
    "            axs.set_xlim(left=left, right=right)\n",
    "            axs.set_ylim(left, right) \n",
    "            axs.legend()\n",
    "    metric = []\n",
    "    for ii in range(len(results)):\n",
    "        _, _, m = results[ii]\n",
    "        metric.append(m)\n",
    "\n",
    "    metrics = np.append(\n",
    "        metrics, np.array(metric).reshape([1, len(metric), len(m)]), axis=0\n",
    "    )\n",
    "\n",
    "    plt.show()\n",
    "    return metrics\n",
    "\n",
    "\n",
    "\n",
    "def plot_metric(metrics, labels, *args, **kwargs):\n",
    "    a, b, c = metrics.shape\n",
    "    _, axs = plt.subplots(\n",
    "        nrows=math.ceil(c / 2),\n",
    "        ncols=2, figsize=(16, 16), \n",
    "    )\n",
    "    for i in range(c):\n",
    "        ax = (\n",
    "            axs[i // 2, i % 2] if c > 1 else axs\n",
    "        )  # Handle the case when c=1 to avoid indexing errors\n",
    "        for j in range(a):\n",
    "            ax.plot(\n",
    "                metrics[j, :, i], label=labels[0][j], *args, **kwargs\n",
    "            )  # Plot each series in the i-th plot\n",
    "        ax.set_title(labels[2][i])\n",
    "        ax.legend()  # Show legend in each subplot\n",
    "\n",
    "        # Set custom x-axis labels\n",
    "        ax.set_xticks(range(b))  # Set x-tick positions for all 'b' points\n",
    "        ax.set_xticklabels(labels[1])  # Set x-tick labels\n",
    "\n",
    "    plt.tight_layout()\n",
    "    plt.show()\n",
    "\n",
    "def plot_hlc():\n",
    "    global results, labels\n",
    "    dep_var = data_names(data_columns(test_set), 20)[0]\n",
    "    labels = [\n",
    "        [f'm{i}' for i in range(itr)],  # Model identifiers\n",
    "        tables,                         # Table names\n",
    "        [\"mae\", \"mse\", \"rmse\", \"mape\", \"wmse\", \"accr\"]  # Metric labels\n",
    "    ]\n",
    "    metrics = np.empty((0, len(tables), metrics_cnt))\n",
    "    n_categories = data_columns(test_set)[\"ycat\"]\n",
    "    x = np.arange(1, n_categories + 1)\n",
    "    for i in range(itr):\n",
    "        setting = update_args(args, data_parser, i)\n",
    "        DatasetMTS.clear()\n",
    "        exp = Exp_crossformer(args)\n",
    "        print(f\">>>>>>> Testing: {setting} <<<<<<<<<<<<<<<<<<<<<<<<<<<\")\n",
    "        results = []\n",
    "\n",
    "        for table in tables:\n",
    "            results.append(exp.test(setting, 'prcs', True, data_path=[table], inverse=1))\n",
    "        \n",
    "        metrics = regplot(dep_var, metrics, 4, i)\n",
    "\n",
    "        cols=4\n",
    "        rows = (len(results) - 1) // cols + 1\n",
    "        \n",
    "        _, axes = plt.subplots(rows*2, cols, figsize=(16, cols * rows*2))\n",
    "        axes = axes.flatten()\n",
    "\n",
    "        for j, result in enumerate(results):\n",
    "            preds, trues, _ = result\n",
    "            preds = preds[:, -n_categories:]\n",
    "            trues = np.round(trues[:, 0]).astype(int)\n",
    "            df = pd.DataFrame(preds, columns=[str(i) for i in range(1, n_categories + 1)])\n",
    "            df['True_Label'] = trues\n",
    "\n",
    "            summed_probs = df.groupby('True_Label').mean().T            \n",
    "            xi=[float(x) + 0.5 for x in summed_probs.index]\n",
    "            half=len(summed_probs.columns)/2\n",
    "            ls=['--','-',':']\n",
    "            for k in (0,1):\n",
    "              ci=0\n",
    "              ax = axes[int(j//cols)*cols*2+j%cols+k*cols]\n",
    "              ax.hist(trues, bins=np.arange(0.5, n_categories + 0.5), density=True)\n",
    "              for m in range(k,len(summed_probs.columns),2):\n",
    "                  col=summed_probs.columns[m]\n",
    "                  ax.plot(xi, summed_probs[col],\n",
    "                          label=f'Col {col}',\n",
    "                          linestyle=ls[col % 3],\n",
    "                          color=f'C{ci % 10}',alpha=0.5)\n",
    "                  ci+=1\n",
    "\n",
    "                  ax.text(col-.5, summed_probs[col][col-1], f'{col}',\n",
    "                          fontsize=8, verticalalignment='center', horizontalalignment='left')\n",
    "                  ax.legend(loc='center left', bbox_to_anchor=(1.05, 0.5))\n",
    "\n",
    "              ax.set_title(f'{tables[j]}_{i}')\n",
    "              ax.set_ylim(0.0, 0.2)\n",
    "              ax.set_xlim(0.5, n_categories + 0.5)\n",
    "              ax.set_xticks(x)\n",
    "              ax.set_xticklabels([str(i) for i in x], rotation=-45)\n",
    "                            \n",
    "        plt.tight_layout()\n",
    "        plt.show()\n",
    "\n",
    "    print(metrics)\n",
    "    plot_metric(metrics, labels)\n"
   ]
  },
  {
   "cell_type": "markdown",
   "metadata": {
    "id": "qCfd-gU7JTzW"
   },
   "source": [
    "# train"
   ]
  },
  {
   "cell_type": "code",
   "execution_count": null,
   "metadata": {
    "id": "YeTQzMtGy8Ih"
   },
   "outputs": [
    {
     "name": "stdout",
     "output_type": "stream",
     "text": [
      "Args in experiment:\n",
      "Namespace(data='vols', step=1, weight=0.8, root_path='E:/mydoc/git/trade/analyics/', delta=1.0, alpha2=5, lambda_huber=1.0, lambda_mse=1.0, lambda_reg=0.5, lambda_q90=0.5, data_path=['volvAAPL.csv'], data_split=[0.7, 0.15, 0.15], checkpoints='./checkpoints/', in_len=20, out_len=1, seg_len=5, win_size=2, factor=10, d_model=512, d_ff=512, n_heads=4, e_layers=5, dropout=0.2, baseline=False, num_workers=0, batch_size=12, train_epochs=500, patience=15, learning_rate=0.01, lradj='type2', itr=1, save_pred=False, use_gpu=True, resume=True, query=None, gpu=0, use_multi_gpu=False, devices='0,1,2,3')\n",
      "Args in experiment:\n",
      "Namespace(data='prcs', step=1, weight=1.0, root_path='E:/mydoc/git/trade/analyics/', delta=1.0, alpha2=0.2, lambda_huber=1.0, lambda_mse=1.0, lambda_reg=0.5, lambda_q90=0.5, data_path=['volvAAPL.csv'], data_split=[0.7, 0.15, 0.15], checkpoints='./checkpoints/', in_len=20, out_len=1, seg_len=5, win_size=2, factor=10, d_model=512, d_ff=512, n_heads=4, e_layers=5, dropout=0.2, baseline=False, num_workers=0, batch_size=12, train_epochs=500, patience=15, learning_rate=0.01, lradj='type2', itr=1, save_pred=False, use_gpu=True, resume=True, query=None, gpu=0, use_multi_gpu=False, devices='0,1,2,3')\n",
      "Args in experiment:\n",
      "Namespace(data='vols', step=1, weight=0.8, root_path='E:/mydoc/git/trade/analyics/', delta=1.0, alpha2=5, lambda_huber=1.0, lambda_mse=1.0, lambda_reg=0.5, lambda_q90=0.5, data_path=['volvAAPL.csv'], data_split=[0.7, 0.15, 0.15], checkpoints='./checkpoints/', in_len=20, out_len=1, seg_len=5, win_size=2, factor=10, d_model=512, d_ff=512, n_heads=4, e_layers=5, dropout=0.2, baseline=False, num_workers=0, batch_size=12, train_epochs=500, patience=15, learning_rate=0.0033333333333333335, lradj='type2', itr=1, save_pred=False, use_gpu=True, resume=True, query=None, gpu=0, use_multi_gpu=False, devices='0,1,2,3')\n",
      "Args in experiment:\n",
      "Namespace(data='prcs', step=1, weight=1.0, root_path='E:/mydoc/git/trade/analyics/', delta=1.0, alpha2=0.2, lambda_huber=1.0, lambda_mse=1.0, lambda_reg=0.5, lambda_q90=0.5, data_path=['volvAAPL.csv'], data_split=[0.7, 0.15, 0.15], checkpoints='./checkpoints/', in_len=20, out_len=1, seg_len=5, win_size=2, factor=10, d_model=512, d_ff=512, n_heads=4, e_layers=5, dropout=0.2, baseline=False, num_workers=0, batch_size=12, train_epochs=500, patience=15, learning_rate=0.0033333333333333335, lradj='type2', itr=1, save_pred=False, use_gpu=True, resume=True, query=None, gpu=0, use_multi_gpu=False, devices='0,1,2,3')\n"
     ]
    },
    {
     "ename": "KeyboardInterrupt",
     "evalue": "",
     "output_type": "error",
     "traceback": [
      "\u001b[31m---------------------------------------------------------------------------\u001b[39m",
      "\u001b[31mKeyboardInterrupt\u001b[39m                         Traceback (most recent call last)",
      "\u001b[36mCell\u001b[39m\u001b[36m \u001b[39m\u001b[32mIn[9]\u001b[39m\u001b[32m, line 34\u001b[39m\n\u001b[32m     30\u001b[39m \u001b[38;5;28;01mfor\u001b[39;00m i \u001b[38;5;129;01min\u001b[39;00m \u001b[38;5;28mrange\u001b[39m(epochs[\u001b[32m2\u001b[39m]):\n\u001b[32m     31\u001b[39m     \u001b[38;5;28;01mfor\u001b[39;00m ii \u001b[38;5;129;01min\u001b[39;00m \u001b[38;5;28mrange\u001b[39m(s,itr):\n\u001b[32m     32\u001b[39m         \u001b[38;5;66;03m# setting record of experiments\u001b[39;00m\n\u001b[32m     33\u001b[39m         \u001b[38;5;66;03m# data_parser[\"vols\"]['weight']=weight[0]\u001b[39;00m\n\u001b[32m---> \u001b[39m\u001b[32m34\u001b[39m         setting=update_args(args,data_parser,ii)    \n\u001b[32m     35\u001b[39m         \u001b[38;5;66;03m# DatasetMTS.clear()\u001b[39;00m\n\u001b[32m     36\u001b[39m         \u001b[38;5;66;03m# # drive.mount('/content/drive/',force_remount=True)\u001b[39;00m\n\u001b[32m     37\u001b[39m         \u001b[38;5;66;03m# !google-drive-ocamlfuse -cc\u001b[39;00m\n\u001b[32m   (...)\u001b[39m\u001b[32m     46\u001b[39m \n\u001b[32m     47\u001b[39m         \u001b[38;5;66;03m# data_parser[\"vols\"]['weight']=weight[1]\u001b[39;00m\n\u001b[32m     48\u001b[39m         setting=update_args(args,data_parser,ii,\u001b[33m'\u001b[39m\u001b[33mprcs\u001b[39m\u001b[33m'\u001b[39m)\n",
      "\u001b[36mCell\u001b[39m\u001b[36m \u001b[39m\u001b[32mIn[9]\u001b[39m\u001b[32m, line 34\u001b[39m\n\u001b[32m     30\u001b[39m \u001b[38;5;28;01mfor\u001b[39;00m i \u001b[38;5;129;01min\u001b[39;00m \u001b[38;5;28mrange\u001b[39m(epochs[\u001b[32m2\u001b[39m]):\n\u001b[32m     31\u001b[39m     \u001b[38;5;28;01mfor\u001b[39;00m ii \u001b[38;5;129;01min\u001b[39;00m \u001b[38;5;28mrange\u001b[39m(s,itr):\n\u001b[32m     32\u001b[39m         \u001b[38;5;66;03m# setting record of experiments\u001b[39;00m\n\u001b[32m     33\u001b[39m         \u001b[38;5;66;03m# data_parser[\"vols\"]['weight']=weight[0]\u001b[39;00m\n\u001b[32m---> \u001b[39m\u001b[32m34\u001b[39m         setting=update_args(args,data_parser,ii)    \n\u001b[32m     35\u001b[39m         \u001b[38;5;66;03m# DatasetMTS.clear()\u001b[39;00m\n\u001b[32m     36\u001b[39m         \u001b[38;5;66;03m# # drive.mount('/content/drive/',force_remount=True)\u001b[39;00m\n\u001b[32m     37\u001b[39m         \u001b[38;5;66;03m# !google-drive-ocamlfuse -cc\u001b[39;00m\n\u001b[32m   (...)\u001b[39m\u001b[32m     46\u001b[39m \n\u001b[32m     47\u001b[39m         \u001b[38;5;66;03m# data_parser[\"vols\"]['weight']=weight[1]\u001b[39;00m\n\u001b[32m     48\u001b[39m         setting=update_args(args,data_parser,ii,\u001b[33m'\u001b[39m\u001b[33mprcs\u001b[39m\u001b[33m'\u001b[39m)\n",
      "\u001b[36mFile \u001b[39m\u001b[32m_pydevd_bundle\\\\pydevd_cython.pyx:1697\u001b[39m, in \u001b[36m_pydevd_bundle.pydevd_cython.SafeCallWrapper.__call__\u001b[39m\u001b[34m()\u001b[39m\n",
      "\u001b[36mFile \u001b[39m\u001b[32m_pydevd_bundle\\\\pydevd_cython.pyx:634\u001b[39m, in \u001b[36m_pydevd_bundle.pydevd_cython.PyDBFrame.trace_dispatch\u001b[39m\u001b[34m()\u001b[39m\n",
      "\u001b[36mFile \u001b[39m\u001b[32m_pydevd_bundle\\\\pydevd_cython.pyx:1112\u001b[39m, in \u001b[36m_pydevd_bundle.pydevd_cython.PyDBFrame.trace_dispatch\u001b[39m\u001b[34m()\u001b[39m\n",
      "\u001b[36mFile \u001b[39m\u001b[32m_pydevd_bundle\\\\pydevd_cython.pyx:1090\u001b[39m, in \u001b[36m_pydevd_bundle.pydevd_cython.PyDBFrame.trace_dispatch\u001b[39m\u001b[34m()\u001b[39m\n",
      "\u001b[36mFile \u001b[39m\u001b[32m_pydevd_bundle\\\\pydevd_cython.pyx:494\u001b[39m, in \u001b[36m_pydevd_bundle.pydevd_cython.PyDBFrame.do_wait_suspend\u001b[39m\u001b[34m()\u001b[39m\n",
      "\u001b[36mFile \u001b[39m\u001b[32md:\\ProgramData\\miniconda3\\envs\\e1\\Lib\\site-packages\\debugpy\\_vendored\\pydevd\\pydevd.py:2188\u001b[39m, in \u001b[36mPyDB.do_wait_suspend\u001b[39m\u001b[34m(self, thread, frame, event, arg, exception_type)\u001b[39m\n\u001b[32m   2185\u001b[39m             from_this_thread.append(frame_custom_thread_id)\n\u001b[32m   2187\u001b[39m     \u001b[38;5;28;01mwith\u001b[39;00m \u001b[38;5;28mself\u001b[39m._threads_suspended_single_notification.notify_thread_suspended(thread_id, thread, stop_reason):\n\u001b[32m-> \u001b[39m\u001b[32m2188\u001b[39m         keep_suspended = \u001b[38;5;28;43mself\u001b[39;49m\u001b[43m.\u001b[49m\u001b[43m_do_wait_suspend\u001b[49m\u001b[43m(\u001b[49m\u001b[43mthread\u001b[49m\u001b[43m,\u001b[49m\u001b[43m \u001b[49m\u001b[43mframe\u001b[49m\u001b[43m,\u001b[49m\u001b[43m \u001b[49m\u001b[43mevent\u001b[49m\u001b[43m,\u001b[49m\u001b[43m \u001b[49m\u001b[43marg\u001b[49m\u001b[43m,\u001b[49m\u001b[43m \u001b[49m\u001b[43mtrace_suspend_type\u001b[49m\u001b[43m,\u001b[49m\u001b[43m \u001b[49m\u001b[43mfrom_this_thread\u001b[49m\u001b[43m,\u001b[49m\u001b[43m \u001b[49m\u001b[43mframes_tracker\u001b[49m\u001b[43m)\u001b[49m\n\u001b[32m   2190\u001b[39m frames_list = \u001b[38;5;28;01mNone\u001b[39;00m\n\u001b[32m   2192\u001b[39m \u001b[38;5;28;01mif\u001b[39;00m keep_suspended:\n\u001b[32m   2193\u001b[39m     \u001b[38;5;66;03m# This means that we should pause again after a set next statement.\u001b[39;00m\n",
      "\u001b[36mFile \u001b[39m\u001b[32md:\\ProgramData\\miniconda3\\envs\\e1\\Lib\\site-packages\\debugpy\\_vendored\\pydevd\\pydevd.py:2257\u001b[39m, in \u001b[36mPyDB._do_wait_suspend\u001b[39m\u001b[34m(self, thread, frame, event, arg, trace_suspend_type, from_this_thread, frames_tracker)\u001b[39m\n\u001b[32m   2254\u001b[39m                 queue.put(internal_cmd)\n\u001b[32m   2255\u001b[39m                 wait_timeout = TIMEOUT_FAST\n\u001b[32m-> \u001b[39m\u001b[32m2257\u001b[39m         \u001b[43mnotify_event\u001b[49m\u001b[43m.\u001b[49m\u001b[43mwait\u001b[49m\u001b[43m(\u001b[49m\u001b[43mwait_timeout\u001b[49m\u001b[43m)\u001b[49m\n\u001b[32m   2258\u001b[39m         notify_event.clear()\n\u001b[32m   2260\u001b[39m \u001b[38;5;28;01mfinally\u001b[39;00m:\n",
      "\u001b[36mFile \u001b[39m\u001b[32md:\\ProgramData\\miniconda3\\envs\\e1\\Lib\\threading.py:629\u001b[39m, in \u001b[36mEvent.wait\u001b[39m\u001b[34m(self, timeout)\u001b[39m\n\u001b[32m    627\u001b[39m signaled = \u001b[38;5;28mself\u001b[39m._flag\n\u001b[32m    628\u001b[39m \u001b[38;5;28;01mif\u001b[39;00m \u001b[38;5;129;01mnot\u001b[39;00m signaled:\n\u001b[32m--> \u001b[39m\u001b[32m629\u001b[39m     signaled = \u001b[38;5;28;43mself\u001b[39;49m\u001b[43m.\u001b[49m\u001b[43m_cond\u001b[49m\u001b[43m.\u001b[49m\u001b[43mwait\u001b[49m\u001b[43m(\u001b[49m\u001b[43mtimeout\u001b[49m\u001b[43m)\u001b[49m\n\u001b[32m    630\u001b[39m \u001b[38;5;28;01mreturn\u001b[39;00m signaled\n",
      "\u001b[36mFile \u001b[39m\u001b[32md:\\ProgramData\\miniconda3\\envs\\e1\\Lib\\threading.py:331\u001b[39m, in \u001b[36mCondition.wait\u001b[39m\u001b[34m(self, timeout)\u001b[39m\n\u001b[32m    329\u001b[39m \u001b[38;5;28;01melse\u001b[39;00m:\n\u001b[32m    330\u001b[39m     \u001b[38;5;28;01mif\u001b[39;00m timeout > \u001b[32m0\u001b[39m:\n\u001b[32m--> \u001b[39m\u001b[32m331\u001b[39m         gotit = \u001b[43mwaiter\u001b[49m\u001b[43m.\u001b[49m\u001b[43macquire\u001b[49m\u001b[43m(\u001b[49m\u001b[38;5;28;43;01mTrue\u001b[39;49;00m\u001b[43m,\u001b[49m\u001b[43m \u001b[49m\u001b[43mtimeout\u001b[49m\u001b[43m)\u001b[49m\n\u001b[32m    332\u001b[39m     \u001b[38;5;28;01melse\u001b[39;00m:\n\u001b[32m    333\u001b[39m         gotit = waiter.acquire(\u001b[38;5;28;01mFalse\u001b[39;00m)\n",
      "\u001b[31mKeyboardInterrupt\u001b[39m: "
     ]
    }
   ],
   "source": [
    "if not run_test:\n",
    "    from cross_exp.exp_crossformer import Exp_crossformer\n",
    "    from data.data_loader import DatasetMTS\n",
    "    data_parser = {\n",
    "        \"vols\": {\n",
    "            'data':'vols',\n",
    "            \"patience\":epochs[0],\n",
    "            \"train_epochs\":epochs[1],\n",
    "            'learning_rate':0.01,\n",
    "            'data_split':[0.7,0.15,0.15],\n",
    "            'batch_size':batch_size*2//5,\n",
    "            'e_layers':5,\n",
    "            'd_model':512,\n",
    "            'lradj':'type2',\n",
    "            \"checkpoints\":\"./checkpoints/\",\n",
    "            'root_path':mydrive+valData,\n",
    "            'data_path':tables,\n",
    "            'weight':weight[0],\n",
    "            'alpha2':5\n",
    "        },\n",
    "        \"prcs\":{\n",
    "            'data':'prcs',\n",
    "            'weight':weight[1],\n",
    "            'alpha2':0.2\n",
    "        }\n",
    "        }\n",
    "    s=epochs[3]\n",
    "    for _ in range(epochs[2]):\n",
    "        data_parser[\"vols\"][\"learning_rate\"]=.01\n",
    "        for i in range(epochs[2]):\n",
    "            for ii in range(s,itr):\n",
    "                # setting record of experiments\n",
    "                # data_parser[\"vols\"]['weight']=weight[0]\n",
    "                setting=update_args(args,data_parser,ii)    \n",
    "                DatasetMTS.clear()\n",
    "                # drive.mount('/content/drive/',force_remount=True)\n",
    "                !google-drive-ocamlfuse -cc\n",
    "                \n",
    "                exp = Exp_crossformer(args)  # set experiments\n",
    "                print(f\">>>>>>>start training : {setting}>>>>>>>>>>>>>>>>>>>>>>>>>>\")\n",
    "                exp.train(setting, \"vols\")\n",
    "\n",
    "                print(f\">>>>>>>testing : {setting}<<<<<<<<<<<<<<<<<<<<<<<<<<<<<<<<<\")\n",
    "                preds, trues,_ = exp.test(setting, 'vols', True, data_path=[tables[-1]], inverse=True)\n",
    "                print(preds.shape, trues.shape)\n",
    "\n",
    "                # data_parser[\"vols\"]['weight']=weight[1]\n",
    "                setting=update_args(args,data_parser,ii,'prcs')\n",
    "                DatasetMTS.clear()\n",
    "                exp = Exp_crossformer(args)  # set experiments\n",
    "                print(f\">>>>>>>start training : {setting}>>>>>>>>>>>>>>>>>>>>>>>>>>\")\n",
    "                exp.train(setting, \"prcs\")\n",
    "                preds, trues,_ = exp.test(setting, 'prcs', True, data_path=[tables[-1]], inverse=True)\n",
    "                print(preds.shape, trues.shape)\n",
    "            data_parser[\"vols\"][\"learning_rate\"]/=3.\n",
    "            s=0"
   ]
  },
  {
   "cell_type": "code",
   "execution_count": null,
   "metadata": {
    "id": "4kj_rRG1J66H"
   },
   "outputs": [],
   "source": [
    "if not run_test:\n",
    "    from google.colab import runtime\n",
    "    runtime.unassign()"
   ]
  },
  {
   "cell_type": "markdown",
   "metadata": {
    "id": "066vGmCNJTzY"
   },
   "source": [
    "# test"
   ]
  },
  {
   "cell_type": "code",
   "execution_count": null,
   "metadata": {
    "id": "w03KqC8jJTzY"
   },
   "outputs": [],
   "source": [
    "from data.data_loader import DatasetMTS\n",
    "from data.data_def import data_columns, data_names\n",
    "data_parser = {\n",
    "    \"vols\": {\n",
    "        'e_layers':5,\n",
    "        'd_model':512,\n",
    "        'lradj':'type2',\n",
    "        'weight':weight[0],\n",
    "        'root_path':mydrive+valData,\n",
    "    },\n",
    "    }\n",
    "test_set='vols'\n",
    "dep_var=data_names(data_columns(test_set),20)[0]\n",
    "labels=[[f'm{i}' for i in range(itr)],tables,[\"mae\", \"mse\", \"rmse\", \"mape\", \"wmse\", \"accr\"]]\n",
    "metrics=np.empty((0,len(tables),metrics_cnt))\n",
    "for i in range(itr):\n",
    "  setting=update_args(args,data_parser,i)    \n",
    "  DatasetMTS.clear()\n",
    "  exp = Exp_crossformer(args)\n",
    "  print(f\">>>>>>>testing : {setting}<<<<<<<<<<<<<<<<<<<<<<<<<<<<<<<<<\")\n",
    "  results = []\n",
    "  for table in tables:\n",
    "      results.append(exp.test(setting, 'vols', True, data_path=[table], inverse=True))\n",
    "  metrics=regplot(dep_var,metrics,4,i)\n",
    "\n",
    "print(metrics)\n",
    "plot_metric(metrics,labels)"
   ]
  },
  {
   "cell_type": "markdown",
   "metadata": {
    "id": "wkGkKgp98ua9"
   },
   "source": [
    "## hlc"
   ]
  },
  {
   "cell_type": "code",
   "execution_count": null,
   "metadata": {
    "id": "JKW9afa-cENf"
   },
   "outputs": [],
   "source": [
    "from data.data_loader import DatasetMTS\n",
    "from data.data_def import data_columns, data_names\n",
    "import pandas as pd\n",
    "\n",
    "test_set='prcs'\n",
    "data_parser = {\n",
    "    \"vols\": {\n",
    "        'e_layers':5,\n",
    "        'd_model':512,\n",
    "        'lradj':'type2',\n",
    "        'root_path':mydrive+valData,\n",
    "        'weight':weight[1]#0.8#\n",
    "    },\n",
    "    }\n",
    "plot_hlc()"
   ]
  },
  {
   "cell_type": "markdown",
   "metadata": {
    "id": "L9IXNP9K8ua-"
   },
   "source": [
    "## horizon\n"
   ]
  },
  {
   "cell_type": "code",
   "execution_count": null,
   "metadata": {
    "id": "rpzR-1aN8ua-"
   },
   "outputs": [],
   "source": [
    "from data.data_loader import DatasetMTS\n",
    "from cross_exp.exp_crossformer import Exp_crossformer\n",
    "test_set='vols'\n",
    "\n",
    "labels=[[f'm{i}' for i in range(itr)] ,[f'h{h+1}' for h in range(5)],[\"mae\", \"mse\", \"rmse\", \"mape\", \"wmse\", \"accr\"]]\n",
    "dep_var=data_names(data_columns(test_set),20)[0]\n",
    "metrics=np.empty((0,len(labels[1]),len(labels[2])))\n",
    "for i in range(itr):\n",
    "  results = []\n",
    "  for h in range(5):\n",
    "    data_parser = {\n",
    "    \"vols\": {\n",
    "        'e_layers':5,\n",
    "        'd_model':512,\n",
    "        'lradj':'type2',\n",
    "        \"query\": f\"floor(horizon)=={h+1}\",\n",
    "        'weight':weight[0],\n",
    "        'root_path':mydrive+valData,\n",
    "        'data_path':tables,    \n",
    "    },\n",
    "    }\n",
    "    setting=update_args(args,data_parser,i)\n",
    "    DatasetMTS.clear()\n",
    "    exp = Exp_crossformer(args)\n",
    "    print(f\">>>>>>>testing : {data_parser['vols']['query']} m{i}h{h+1}<<<<<<<<<<<<<<<<<<<<<<<<<<<<<<<<<\")\n",
    "    results.append(exp.test(setting, 'vols', True, inverse=True))\n",
    "  metrics=regplot(dep_var,metrics,4,i)\n",
    "\n",
    "print(metrics)\n",
    "plot_metric(metrics,labels)"
   ]
  },
  {
   "cell_type": "markdown",
   "metadata": {
    "id": "KBfRZp9y8ua-"
   },
   "source": [
    "## cutline"
   ]
  },
  {
   "cell_type": "code",
   "execution_count": null,
   "metadata": {
    "id": "F6WWmBSmcENg"
   },
   "outputs": [],
   "source": [
    "from cross_exp.exp_crossformer import Exp_crossformer\n",
    "from data.data_loader import DatasetMTS\n",
    "from data.data_def import data_columns, data_names\n",
    "test_set='vols'\n",
    "\n",
    "data_parser = {\n",
    "    \"vols\": {\n",
    "        'e_layers':5,\n",
    "        'd_model':512,\n",
    "        \"query\": f\"date>'#{cutdate}'\",\n",
    "        'root_path':mydrive+testData,\n",
    "        'weight':weight[0],    \n",
    "    },\n",
    "    }\n",
    "\n",
    "dep_var=data_names(data_columns(test_set),20)[0]\n",
    "labels=[[f'm{i}' for i in range(itr)],tables,[\"mae\", \"mse\", \"rmse\", \"mape\", \"wmse\", \"accr\"]]\n",
    "metrics=np.empty((0,len(tables),metrics_cnt))\n",
    "for i in range(itr):\n",
    "  setting=update_args(args,data_parser,i)\n",
    "  DatasetMTS.clear()\n",
    "  exp = Exp_crossformer(args)\n",
    "  print(f\">>>>>>>testing : {setting}<<<<<<<<<<<<<<<<<<<<<<<<<<<<<<<<<\")\n",
    "  results = []\n",
    "  for table in tables:\n",
    "      results.append(exp.test(setting, 'vols', True, data_path=[table], inverse=True))\n",
    "  metrics=regplot(dep_var,metrics,4,i)\n",
    "\n",
    "print(metrics)\n",
    "plot_metric(metrics,labels)"
   ]
  },
  {
   "cell_type": "markdown",
   "metadata": {
    "id": "rWJgEQeu8ua_"
   },
   "source": [
    "## hlc"
   ]
  },
  {
   "cell_type": "code",
   "execution_count": null,
   "metadata": {
    "id": "FFlVJgjocENh"
   },
   "outputs": [],
   "source": [
    "from data.data_loader import DatasetMTS\n",
    "from data.data_def import data_columns, data_names\n",
    "import pandas as pd\n",
    "\n",
    "test_set='prcs'\n",
    "data_parser = {\n",
    "    \"vols\": {\n",
    "        'e_layers':5,\n",
    "        'd_model':512,\n",
    "        'lradj':'type2',\n",
    "        \"query\": f\"date>'#{cutdate}'\",\n",
    "        'root_path':mydrive+testData,\n",
    "        'weight':weight[1],\n",
    "        },\n",
    "    }\n",
    "plot_hlc()"
   ]
  },
  {
   "cell_type": "markdown",
   "metadata": {
    "id": "Ff1dksSt8ubA"
   },
   "source": [
    "## horizon\n"
   ]
  },
  {
   "cell_type": "code",
   "execution_count": null,
   "metadata": {
    "id": "VPL62tkj8ubA"
   },
   "outputs": [],
   "source": [
    "from data.data_loader import DatasetMTS\n",
    "from cross_exp.exp_crossformer import Exp_crossformer\n",
    "from data.data_def import data_columns, data_names\n",
    "test_set='vols'\n",
    "labels=[[f'm{i}' for i in range(itr)] ,[f'h{h+1}' for h in range(5)],[\"mae\", \"mse\", \"rmse\", \"mape\", \"wmse\", \"accr\"]]\n",
    "dep_var=data_names(data_columns(test_set),20)[0]\n",
    "metrics=np.empty((0,len(labels[1]),len(labels[2])))\n",
    "for i in range(itr):\n",
    "  results = []\n",
    "  for h in range(5):\n",
    "    data_parser = {\n",
    "    \"vols\": {\n",
    "        'e_layers':5,\n",
    "        'd_model':512,\n",
    "        'lradj':'type2',\n",
    "        'root_path':mydrive+testData,\n",
    "        \"query\": f\"date>'#{cutdate}' and floor(horizon)=={h+1}\",\n",
    "        'weight':weight[0],\n",
    "        'data_path':tables,    \n",
    "    },\n",
    "    }\n",
    "    setting=update_args(args,data_parser,i)\n",
    "    DatasetMTS.clear()\n",
    "    exp = Exp_crossformer(args)\n",
    "    print(f\">>>>>>>testing : {data_parser['vols']['query']} m{i}h{h+1}<<<<<<<<<<<<<<<<<<<<<<<<<<<<<<<<<\")\n",
    "    results.append(exp.test(setting, 'vols', True, inverse=True))\n",
    "  metrics=regplot(dep_var,metrics,4,i)\n",
    "\n",
    "print(metrics)\n",
    "plot_metric(metrics,labels)"
   ]
  },
  {
   "cell_type": "markdown",
   "metadata": {
    "id": "jI4GPCiA8ubA"
   },
   "source": [
    "# end"
   ]
  },
  {
   "cell_type": "code",
   "execution_count": null,
   "metadata": {
    "id": "45zLIW5xJTza"
   },
   "outputs": [],
   "source": [
    "plt.show()\n",
    "from google.colab import runtime\n",
    "runtime.unassign()"
   ]
  }
 ],
 "metadata": {
  "accelerator": "GPU",
  "colab": {
   "gpuType": "V100",
   "machine_shape": "hm",
   "provenance": [],
   "toc_visible": true
  },
  "kernelspec": {
   "display_name": "e1",
   "language": "python",
   "name": "python3"
  },
  "language_info": {
   "codemirror_mode": {
    "name": "ipython",
    "version": 3
   },
   "file_extension": ".py",
   "mimetype": "text/x-python",
   "name": "python",
   "nbconvert_exporter": "python",
   "pygments_lexer": "ipython3",
   "version": "3.11.9"
  }
 },
 "nbformat": 4,
 "nbformat_minor": 0
}
